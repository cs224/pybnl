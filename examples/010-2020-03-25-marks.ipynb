{
 "cells": [
  {
   "cell_type": "code",
   "execution_count": 1,
   "metadata": {},
   "outputs": [
    {
     "name": "stdout",
     "output_type": "stream",
     "text": [
      "Christian Schuhegger \n",
      "last updated: 2020-03-25 \n",
      "\n",
      "CPython 3.6.10\n",
      "IPython 7.13.0\n",
      "\n",
      "numpy 1.18.1\n",
      "xarray 0.15.0\n",
      "scipy 1.4.1\n",
      "pandas 1.0.2\n",
      "sklearn 0.22.1\n",
      "matplotlib 3.1.3\n",
      "seaborn 0.10.0\n",
      "qgrid 1.3.0\n",
      "rpy2 3.2.6\n",
      "libpgm 1.3\n",
      "pgmpy 0.1.10\n",
      "networkx 2.4\n",
      "graphviz 0.13.2\n",
      "pybnl 0.1.0a1\n",
      "pytest 5.4.1\n"
     ]
    }
   ],
   "source": [
    "%load_ext watermark\n",
    "%watermark -a 'Christian Schuhegger' -u -d -v -p numpy,xarray,scipy,pandas,sklearn,matplotlib,seaborn,qgrid,rpy2,libpgm,pgmpy,networkx,graphviz,pybnl,pytest"
   ]
  },
  {
   "cell_type": "markdown",
   "metadata": {},
   "source": [
    "Access other versions via nbviwer:\n",
    "[https://nbviewer.jupyter.org/github/cs224/pybnl/blob/4bd08e6e48194dcddeadf0f202b910e3e224753b/examples/010-2018-06-15-marks.ipynb](https://nbviewer.jupyter.org/github/cs224/pybnl/blob/4bd08e6e48194dcddeadf0f202b910e3e224753b/examples/010-2018-06-15-marks.ipynb)"
   ]
  },
  {
   "cell_type": "code",
   "execution_count": 2,
   "metadata": {},
   "outputs": [],
   "source": [
    "%matplotlib inline\n",
    "import numpy as np, pandas as pd, xarray as xr, matplotlib.pyplot as plt, seaborn as sns\n",
    "import sklearn, sklearn.pipeline\n",
    "import networkx as nx, graphviz, networkx.algorithms.dag\n",
    "import random\n",
    "\n",
    "pd.set_option('display.max_columns', 500)\n",
    "pd.set_option('display.width', 1000)\n",
    "# pd.set_option('display.float_format', lambda x: '%.2f' % x)\n",
    "np.set_printoptions(edgeitems=10)\n",
    "np.set_printoptions(suppress=True)\n",
    "np.core.arrayprint._line_width = 180\n",
    "\n",
    "sns.set()"
   ]
  },
  {
   "cell_type": "code",
   "execution_count": 3,
   "metadata": {},
   "outputs": [
    {
     "data": {
      "text/html": [
       "<style>.container { width:70% !important; }</style>"
      ],
      "text/plain": [
       "<IPython.core.display.HTML object>"
      ]
     },
     "metadata": {},
     "output_type": "display_data"
    }
   ],
   "source": [
    "from IPython.display import display, HTML\n",
    "\n",
    "from IPython.display import display_html\n",
    "def display_side_by_side(*args):\n",
    "    html_str=''\n",
    "    for df in args:\n",
    "        if type(df) == np.ndarray:\n",
    "            df = pd.DataFrame(df)\n",
    "        html_str+=df.to_html()\n",
    "    html_str = html_str.replace('table','table style=\"display:inline\"')\n",
    "    # print(html_str)\n",
    "    display_html(html_str,raw=True)\n",
    "\n",
    "CSS = \"\"\"\n",
    ".output {\n",
    "    flex-direction: row;\n",
    "}\n",
    "\"\"\"\n",
    "\n",
    "def display_graphs_side_by_side(*args):\n",
    "    html_str='<table><tr>'\n",
    "    for g in args:\n",
    "        html_str += '<td>'\n",
    "        html_str += g._repr_svg_()\n",
    "        html_str += '</td>'\n",
    "    html_str += '</tr></table>'\n",
    "    display_html(html_str,raw=True)\n",
    "    \n",
    "\n",
    "display(HTML(\"<style>.container { width:70% !important; }</style>\"))"
   ]
  },
  {
   "cell_type": "code",
   "execution_count": 4,
   "metadata": {},
   "outputs": [
    {
     "name": "stderr",
     "output_type": "stream",
     "text": [
      "/home/local/cs/local/install/anaconda3-5.3.1-Linux-x86_64/envs/py36ds/lib/python3.6/site-packages/rpy2/robjects/pandas2ri.py:14: FutureWarning: pandas.core.index is deprecated and will be removed in a future version.  The public classes are available in the top-level namespace.\n",
      "  from pandas.core.index import Index as PandasIndex\n",
      "/home/local/cs/local/install/anaconda3-5.3.1-Linux-x86_64/envs/py36ds/lib/python3.6/site-packages/rpy2/robjects/pandas2ri.py:34: UserWarning: pandas >= 1.0 is not supported.\n",
      "  warnings.warn('pandas >= 1.0 is not supported.')\n"
     ]
    }
   ],
   "source": [
    "%load_ext rpy2.ipython"
   ]
  },
  {
   "cell_type": "code",
   "execution_count": 5,
   "metadata": {},
   "outputs": [
    {
     "name": "stderr",
     "output_type": "stream",
     "text": [
      "/home/local/cs/local/install/anaconda3-5.3.1-Linux-x86_64/envs/py36ds/lib/python3.6/site-packages/rpy2/robjects/lib/ggplot2.py:72: UserWarning: This was designed againt ggplot2 version 3.2.1 but you have 3.3.0\n",
      "  'have %s' % (TARGET_VERSION, ggplot2.__version__))\n"
     ]
    }
   ],
   "source": [
    "%load_ext autoreload\n",
    "%autoreload 1\n",
    "%aimport pybnl.bn"
   ]
  },
  {
   "cell_type": "markdown",
   "metadata": {},
   "source": [
    "# IMPORTANT: dont' use rpy2.robjects.pandas2ri.activate()\n",
    "\n",
    "This will break the functionality of the pybnl library"
   ]
  },
  {
   "cell_type": "code",
   "execution_count": 6,
   "metadata": {},
   "outputs": [],
   "source": [
    "import locale\n",
    "locale.setlocale(locale.LC_ALL, 'C')\n",
    "\n",
    "import rpy2, rpy2.rinterface, rpy2.robjects, rpy2.robjects.packages, rpy2.robjects.lib, rpy2.robjects.lib.grid, \\\n",
    "    rpy2.robjects.lib.ggplot2, rpy2.robjects.pandas2ri, rpy2.interactive.process_revents, \\\n",
    "    rpy2.interactive, rpy2.robjects.lib.grdevices\n",
    "# rpy2.interactive.process_revents.start()\n",
    "# rpy2.robjects.pandas2ri.activate()"
   ]
  },
  {
   "cell_type": "code",
   "execution_count": 7,
   "metadata": {},
   "outputs": [
    {
     "name": "stdout",
     "output_type": "stream",
     "text": [
      "[1] 4 5\n",
      "\n"
     ]
    }
   ],
   "source": [
    "rpackageversionfn = rpy2.robjects.r('packageVersion')\n",
    "print(rpackageversionfn(\"bnlearn\")[0])"
   ]
  },
  {
   "cell_type": "code",
   "execution_count": 8,
   "metadata": {},
   "outputs": [],
   "source": [
    "# import rpy2.robjects as ro, rpy2.robjects.packages, rpy2.robjects.pandas2ri, rpy2.robjects.numpy2ri\n",
    "# m = ro.r.matrix(ro.IntVector(range(10)), nrow=5)\n",
    "# print(m)"
   ]
  },
  {
   "cell_type": "markdown",
   "metadata": {},
   "source": [
    "# learning.test\n",
    "\n",
    "Before we look at the `marks` data-set let's look first at a test network provided in the `bnlearn` package:\n",
    "[networks](http://www.bnlearn.com/documentation/networks/)\n",
    "<img src='http://www.bnlearn.com/documentation/networks/learning.test.png' width=400>"
   ]
  },
  {
   "cell_type": "code",
   "execution_count": 9,
   "metadata": {},
   "outputs": [],
   "source": [
    "%%R -o rdf_lt\n",
    "data(learning.test)\n",
    "rdf_lt = learning.test"
   ]
  },
  {
   "cell_type": "markdown",
   "metadata": {},
   "source": [
    "## Converting the R data.frame into a python pd.DataFrame and converting to CategoricalDtype"
   ]
  },
  {
   "cell_type": "markdown",
   "metadata": {},
   "source": [
    "After loading the data-set we need to convert it so that all variables are of type `CategoricalDtype`: see the pandas documentation about [Categorical Data](https://pandas.pydata.org/pandas-docs/stable/categorical.html) for more details."
   ]
  },
  {
   "cell_type": "code",
   "execution_count": 10,
   "metadata": {},
   "outputs": [
    {
     "name": "stdout",
     "output_type": "stream",
     "text": [
      "<class 'pandas.core.frame.DataFrame'>\n",
      "Index: 5000 entries, 1 to 5000\n",
      "Data columns (total 6 columns):\n",
      " #   Column  Non-Null Count  Dtype   \n",
      "---  ------  --------------  -----   \n",
      " 0   A       5000 non-null   category\n",
      " 1   B       5000 non-null   category\n",
      " 2   C       5000 non-null   category\n",
      " 3   D       5000 non-null   category\n",
      " 4   E       5000 non-null   category\n",
      " 5   F       5000 non-null   category\n",
      "dtypes: category(6)\n",
      "memory usage: 69.0+ KB\n"
     ]
    }
   ],
   "source": [
    "#df_lt = rpy2.robjects.pandas2ri.ri2py(rdf_lt)\n",
    "df_lt = rdf_lt\n",
    "\n",
    "ct1 = pd.api.types.CategoricalDtype(['a', 'b', 'c'], ordered=True)\n",
    "ct2 = pd.api.types.CategoricalDtype(['a', 'b'], ordered=True)\n",
    "\n",
    "for c in 'ABCDE':\n",
    "    df_lt[c] = df_lt[c].astype(ct1)\n",
    "df_lt['F'] = df_lt['F'].astype(ct2)\n",
    "\n",
    "df_lt.info()"
   ]
  },
  {
   "cell_type": "markdown",
   "metadata": {},
   "source": [
    "## ConstraintBasedNetFromDataDiscreteBayesNetwork"
   ]
  },
  {
   "cell_type": "code",
   "execution_count": 11,
   "metadata": {},
   "outputs": [
    {
     "data": {
      "image/svg+xml": [
       "<?xml version=\"1.0\" encoding=\"UTF-8\" standalone=\"no\"?>\n",
       "<!DOCTYPE svg PUBLIC \"-//W3C//DTD SVG 1.1//EN\"\n",
       " \"http://www.w3.org/Graphics/SVG/1.1/DTD/svg11.dtd\">\n",
       "<!-- Generated by graphviz version 2.40.1 (20161225.0304)\n",
       " -->\n",
       "<!-- Title: %3 Pages: 1 -->\n",
       "<svg width=\"264pt\" height=\"153pt\"\n",
       " viewBox=\"0.00 0.00 264.00 153.00\" xmlns=\"http://www.w3.org/2000/svg\" xmlns:xlink=\"http://www.w3.org/1999/xlink\">\n",
       "<g id=\"graph0\" class=\"graph\" transform=\"scale(1 1) rotate(0) translate(4 149)\">\n",
       "<title>%3</title>\n",
       "<polygon fill=\"#ffffff\" stroke=\"transparent\" points=\"-4,4 -4,-149 260,-149 260,4 -4,4\"/>\n",
       "<!-- A -->\n",
       "<g id=\"node1\" class=\"node\">\n",
       "<title>A</title>\n",
       "<ellipse fill=\"none\" stroke=\"#000000\" cx=\"132.8812\" cy=\"-18.0519\" rx=\"27\" ry=\"18\"/>\n",
       "<text text-anchor=\"middle\" x=\"132.8812\" y=\"-14.3519\" font-family=\"Times,serif\" font-size=\"14.00\" fill=\"#000000\">A</text>\n",
       "</g>\n",
       "<!-- D -->\n",
       "<g id=\"node4\" class=\"node\">\n",
       "<title>D</title>\n",
       "<ellipse fill=\"none\" stroke=\"#000000\" cx=\"90.9628\" cy=\"-71.343\" rx=\"27\" ry=\"18\"/>\n",
       "<text text-anchor=\"middle\" x=\"90.9628\" y=\"-67.643\" font-family=\"Times,serif\" font-size=\"14.00\" fill=\"#000000\">D</text>\n",
       "</g>\n",
       "<!-- A&#45;&gt;D -->\n",
       "<g id=\"edge4\" class=\"edge\">\n",
       "<title>A&#45;&gt;D</title>\n",
       "<path fill=\"none\" stroke=\"#000000\" d=\"M120.3043,-34.041C116.9884,-38.2566 113.3373,-42.8982 109.7702,-47.433\"/>\n",
       "<polygon fill=\"#000000\" stroke=\"#000000\" points=\"106.9624,-45.3415 103.5308,-55.3652 112.4643,-49.6693 106.9624,-45.3415\"/>\n",
       "</g>\n",
       "<!-- B -->\n",
       "<g id=\"node2\" class=\"node\">\n",
       "<title>B</title>\n",
       "<ellipse fill=\"none\" stroke=\"#000000\" cx=\"196.1529\" cy=\"-18.7198\" rx=\"27\" ry=\"18\"/>\n",
       "<text text-anchor=\"middle\" x=\"196.1529\" y=\"-15.0198\" font-family=\"Times,serif\" font-size=\"14.00\" fill=\"#000000\">B</text>\n",
       "</g>\n",
       "<!-- B&#45;&gt;A -->\n",
       "<g id=\"edge5\" class=\"edge\">\n",
       "<title>B&#45;&gt;A</title>\n",
       "<path fill=\"none\" stroke=\"#000000\" d=\"M168.9528,-18.4327C166.0054,-18.4016 163.0055,-18.3699 160.0583,-18.3388\"/>\n",
       "</g>\n",
       "<!-- E -->\n",
       "<g id=\"node5\" class=\"node\">\n",
       "<title>E</title>\n",
       "<ellipse fill=\"none\" stroke=\"#000000\" cx=\"228.9585\" cy=\"-71.2925\" rx=\"27\" ry=\"18\"/>\n",
       "<text text-anchor=\"middle\" x=\"228.9585\" y=\"-67.5925\" font-family=\"Times,serif\" font-size=\"14.00\" fill=\"#000000\">E</text>\n",
       "</g>\n",
       "<!-- B&#45;&gt;E -->\n",
       "<g id=\"edge3\" class=\"edge\">\n",
       "<title>B&#45;&gt;E</title>\n",
       "<path fill=\"none\" stroke=\"#000000\" d=\"M206.5328,-35.3541C208.627,-38.7102 210.8733,-42.31 213.106,-45.888\"/>\n",
       "<polygon fill=\"#000000\" stroke=\"#000000\" points=\"210.2702,-47.955 218.5335,-54.5859 216.2089,-44.2492 210.2702,-47.955\"/>\n",
       "</g>\n",
       "<!-- C -->\n",
       "<g id=\"node3\" class=\"node\">\n",
       "<title>C</title>\n",
       "<ellipse fill=\"none\" stroke=\"#000000\" cx=\"26.9557\" cy=\"-48.0945\" rx=\"27\" ry=\"18\"/>\n",
       "<text text-anchor=\"middle\" x=\"26.9557\" y=\"-44.3945\" font-family=\"Times,serif\" font-size=\"14.00\" fill=\"#000000\">C</text>\n",
       "</g>\n",
       "<!-- C&#45;&gt;D -->\n",
       "<g id=\"edge2\" class=\"edge\">\n",
       "<title>C&#45;&gt;D</title>\n",
       "<path fill=\"none\" stroke=\"#000000\" d=\"M50.7896,-56.7514C52.9266,-57.5276 55.1157,-58.3227 57.3152,-59.1216\"/>\n",
       "<polygon fill=\"#000000\" stroke=\"#000000\" points=\"56.3014,-62.4771 66.8955,-62.6014 58.6912,-55.8976 56.3014,-62.4771\"/>\n",
       "</g>\n",
       "<!-- F -->\n",
       "<g id=\"node6\" class=\"node\">\n",
       "<title>F</title>\n",
       "<ellipse fill=\"none\" stroke=\"#000000\" cx=\"187.1594\" cy=\"-126.5145\" rx=\"27\" ry=\"18\"/>\n",
       "<text text-anchor=\"middle\" x=\"187.1594\" y=\"-122.8145\" font-family=\"Times,serif\" font-size=\"14.00\" fill=\"#000000\">F</text>\n",
       "</g>\n",
       "<!-- F&#45;&gt;E -->\n",
       "<g id=\"edge1\" class=\"edge\">\n",
       "<title>F&#45;&gt;E</title>\n",
       "<path fill=\"none\" stroke=\"#000000\" d=\"M199.4744,-110.2448C202.9301,-105.6794 206.7648,-100.6132 210.4946,-95.6857\"/>\n",
       "<polygon fill=\"#000000\" stroke=\"#000000\" points=\"213.3424,-97.7226 216.5871,-87.6368 207.761,-93.4978 213.3424,-97.7226\"/>\n",
       "</g>\n",
       "</g>\n",
       "</svg>\n"
      ],
      "text/plain": [
       "<graphviz.dot.Digraph at 0x7f3e1694c5f8>"
      ]
     },
     "execution_count": 11,
     "metadata": {},
     "output_type": "execute_result"
    }
   ],
   "source": [
    "cbnet = pybnl.bn.ConstraintBasedNetFromDataDiscreteBayesNetwork(df_lt)\n",
    "cbnet.fit()\n",
    "#display_side_by_side(cbnet.structure().dot(),cbnet.structure().cpdag().dot())\n",
    "cbnet.structure().cpdag().dot()"
   ]
  },
  {
   "cell_type": "code",
   "execution_count": 12,
   "metadata": {},
   "outputs": [
    {
     "name": "stdout",
     "output_type": "stream",
     "text": [
      "\n",
      "  Bayesian network learned via Constraint-based methods\n",
      "\n",
      "  model:\n",
      "   [B][C][F][A|B][E|B:F][D|A:C] \n",
      "  nodes:                                 6 \n",
      "  arcs:                                  5 \n",
      "    undirected arcs:                     0 \n",
      "    directed arcs:                       5 \n",
      "  average markov blanket size:           2.33 \n",
      "  average neighbourhood size:            1.67 \n",
      "  average branching factor:              0.83 \n",
      "\n",
      "  learning algorithm:                    Semi-Interleaved HITON-PC \n",
      "  conditional independence test:         Mutual Information (disc., MC) \n",
      "  alpha threshold:                       0.05 \n",
      "  permutations:                          5000 \n",
      "  tests used in the learning procedure:  63 \n",
      "\n",
      "\n"
     ]
    }
   ],
   "source": [
    "print(cbnet.rnet)"
   ]
  },
  {
   "cell_type": "markdown",
   "metadata": {},
   "source": [
    "## ScoreBasedNetFromDataDiscreteBayesNetwork"
   ]
  },
  {
   "cell_type": "code",
   "execution_count": 13,
   "metadata": {},
   "outputs": [
    {
     "data": {
      "image/svg+xml": [
       "<?xml version=\"1.0\" encoding=\"UTF-8\" standalone=\"no\"?>\n",
       "<!DOCTYPE svg PUBLIC \"-//W3C//DTD SVG 1.1//EN\"\n",
       " \"http://www.w3.org/Graphics/SVG/1.1/DTD/svg11.dtd\">\n",
       "<!-- Generated by graphviz version 2.40.1 (20161225.0304)\n",
       " -->\n",
       "<!-- Title: %3 Pages: 1 -->\n",
       "<svg width=\"264pt\" height=\"153pt\"\n",
       " viewBox=\"0.00 0.00 264.00 153.00\" xmlns=\"http://www.w3.org/2000/svg\" xmlns:xlink=\"http://www.w3.org/1999/xlink\">\n",
       "<g id=\"graph0\" class=\"graph\" transform=\"scale(1 1) rotate(0) translate(4 149)\">\n",
       "<title>%3</title>\n",
       "<polygon fill=\"#ffffff\" stroke=\"transparent\" points=\"-4,4 -4,-149 260,-149 260,4 -4,4\"/>\n",
       "<!-- A -->\n",
       "<g id=\"node1\" class=\"node\">\n",
       "<title>A</title>\n",
       "<ellipse fill=\"none\" stroke=\"#000000\" cx=\"132.8812\" cy=\"-18.0519\" rx=\"27\" ry=\"18\"/>\n",
       "<text text-anchor=\"middle\" x=\"132.8812\" y=\"-14.3519\" font-family=\"Times,serif\" font-size=\"14.00\" fill=\"#000000\">A</text>\n",
       "</g>\n",
       "<!-- D -->\n",
       "<g id=\"node4\" class=\"node\">\n",
       "<title>D</title>\n",
       "<ellipse fill=\"none\" stroke=\"#000000\" cx=\"90.9628\" cy=\"-71.343\" rx=\"27\" ry=\"18\"/>\n",
       "<text text-anchor=\"middle\" x=\"90.9628\" y=\"-67.643\" font-family=\"Times,serif\" font-size=\"14.00\" fill=\"#000000\">D</text>\n",
       "</g>\n",
       "<!-- A&#45;&gt;D -->\n",
       "<g id=\"edge4\" class=\"edge\">\n",
       "<title>A&#45;&gt;D</title>\n",
       "<path fill=\"none\" stroke=\"#000000\" d=\"M120.3043,-34.041C116.9884,-38.2566 113.3373,-42.8982 109.7702,-47.433\"/>\n",
       "<polygon fill=\"#000000\" stroke=\"#000000\" points=\"106.9624,-45.3415 103.5308,-55.3652 112.4643,-49.6693 106.9624,-45.3415\"/>\n",
       "</g>\n",
       "<!-- B -->\n",
       "<g id=\"node2\" class=\"node\">\n",
       "<title>B</title>\n",
       "<ellipse fill=\"none\" stroke=\"#000000\" cx=\"196.1529\" cy=\"-18.7198\" rx=\"27\" ry=\"18\"/>\n",
       "<text text-anchor=\"middle\" x=\"196.1529\" y=\"-15.0198\" font-family=\"Times,serif\" font-size=\"14.00\" fill=\"#000000\">B</text>\n",
       "</g>\n",
       "<!-- B&#45;&gt;A -->\n",
       "<g id=\"edge5\" class=\"edge\">\n",
       "<title>B&#45;&gt;A</title>\n",
       "<path fill=\"none\" stroke=\"#000000\" d=\"M168.9528,-18.4327C166.0054,-18.4016 163.0055,-18.3699 160.0583,-18.3388\"/>\n",
       "</g>\n",
       "<!-- E -->\n",
       "<g id=\"node5\" class=\"node\">\n",
       "<title>E</title>\n",
       "<ellipse fill=\"none\" stroke=\"#000000\" cx=\"228.9585\" cy=\"-71.2925\" rx=\"27\" ry=\"18\"/>\n",
       "<text text-anchor=\"middle\" x=\"228.9585\" y=\"-67.5925\" font-family=\"Times,serif\" font-size=\"14.00\" fill=\"#000000\">E</text>\n",
       "</g>\n",
       "<!-- B&#45;&gt;E -->\n",
       "<g id=\"edge3\" class=\"edge\">\n",
       "<title>B&#45;&gt;E</title>\n",
       "<path fill=\"none\" stroke=\"#000000\" d=\"M206.5328,-35.3541C208.627,-38.7102 210.8733,-42.31 213.106,-45.888\"/>\n",
       "<polygon fill=\"#000000\" stroke=\"#000000\" points=\"210.2702,-47.955 218.5335,-54.5859 216.2089,-44.2492 210.2702,-47.955\"/>\n",
       "</g>\n",
       "<!-- C -->\n",
       "<g id=\"node3\" class=\"node\">\n",
       "<title>C</title>\n",
       "<ellipse fill=\"none\" stroke=\"#000000\" cx=\"26.9557\" cy=\"-48.0945\" rx=\"27\" ry=\"18\"/>\n",
       "<text text-anchor=\"middle\" x=\"26.9557\" y=\"-44.3945\" font-family=\"Times,serif\" font-size=\"14.00\" fill=\"#000000\">C</text>\n",
       "</g>\n",
       "<!-- C&#45;&gt;D -->\n",
       "<g id=\"edge2\" class=\"edge\">\n",
       "<title>C&#45;&gt;D</title>\n",
       "<path fill=\"none\" stroke=\"#000000\" d=\"M50.7896,-56.7514C52.9266,-57.5276 55.1157,-58.3227 57.3152,-59.1216\"/>\n",
       "<polygon fill=\"#000000\" stroke=\"#000000\" points=\"56.3014,-62.4771 66.8955,-62.6014 58.6912,-55.8976 56.3014,-62.4771\"/>\n",
       "</g>\n",
       "<!-- F -->\n",
       "<g id=\"node6\" class=\"node\">\n",
       "<title>F</title>\n",
       "<ellipse fill=\"none\" stroke=\"#000000\" cx=\"187.1594\" cy=\"-126.5145\" rx=\"27\" ry=\"18\"/>\n",
       "<text text-anchor=\"middle\" x=\"187.1594\" y=\"-122.8145\" font-family=\"Times,serif\" font-size=\"14.00\" fill=\"#000000\">F</text>\n",
       "</g>\n",
       "<!-- F&#45;&gt;E -->\n",
       "<g id=\"edge1\" class=\"edge\">\n",
       "<title>F&#45;&gt;E</title>\n",
       "<path fill=\"none\" stroke=\"#000000\" d=\"M199.4744,-110.2448C202.9301,-105.6794 206.7648,-100.6132 210.4946,-95.6857\"/>\n",
       "<polygon fill=\"#000000\" stroke=\"#000000\" points=\"213.3424,-97.7226 216.5871,-87.6368 207.761,-93.4978 213.3424,-97.7226\"/>\n",
       "</g>\n",
       "</g>\n",
       "</svg>\n"
      ],
      "text/plain": [
       "<graphviz.dot.Digraph at 0x7f3e16953eb8>"
      ]
     },
     "execution_count": 13,
     "metadata": {},
     "output_type": "execute_result"
    }
   ],
   "source": [
    "sbnet = pybnl.bn.ScoreBasedNetFromDataDiscreteBayesNetwork(df_lt)\n",
    "sbnet.fit()\n",
    "sbnet.structure().cpdag().dot()"
   ]
  },
  {
   "cell_type": "markdown",
   "metadata": {},
   "source": [
    "## HybridScoreAndConstainedBasedNetFromDataDiscreteBayesNetwork"
   ]
  },
  {
   "cell_type": "code",
   "execution_count": 14,
   "metadata": {},
   "outputs": [
    {
     "data": {
      "image/svg+xml": [
       "<?xml version=\"1.0\" encoding=\"UTF-8\" standalone=\"no\"?>\n",
       "<!DOCTYPE svg PUBLIC \"-//W3C//DTD SVG 1.1//EN\"\n",
       " \"http://www.w3.org/Graphics/SVG/1.1/DTD/svg11.dtd\">\n",
       "<!-- Generated by graphviz version 2.40.1 (20161225.0304)\n",
       " -->\n",
       "<!-- Title: %3 Pages: 1 -->\n",
       "<svg width=\"247pt\" height=\"122pt\"\n",
       " viewBox=\"0.00 0.00 247.00 122.00\" xmlns=\"http://www.w3.org/2000/svg\" xmlns:xlink=\"http://www.w3.org/1999/xlink\">\n",
       "<g id=\"graph0\" class=\"graph\" transform=\"scale(1 1) rotate(0) translate(4 118)\">\n",
       "<title>%3</title>\n",
       "<polygon fill=\"#ffffff\" stroke=\"transparent\" points=\"-4,4 -4,-118 243,-118 243,4 -4,4\"/>\n",
       "<!-- A -->\n",
       "<g id=\"node1\" class=\"node\">\n",
       "<title>A</title>\n",
       "<ellipse fill=\"none\" stroke=\"#000000\" cx=\"128.9617\" cy=\"-79.6214\" rx=\"27\" ry=\"18\"/>\n",
       "<text text-anchor=\"middle\" x=\"128.9617\" y=\"-75.9214\" font-family=\"Times,serif\" font-size=\"14.00\" fill=\"#000000\">A</text>\n",
       "</g>\n",
       "<!-- D -->\n",
       "<g id=\"node4\" class=\"node\">\n",
       "<title>D</title>\n",
       "<ellipse fill=\"none\" stroke=\"#000000\" cx=\"58.2714\" cy=\"-80.7325\" rx=\"27\" ry=\"18\"/>\n",
       "<text text-anchor=\"middle\" x=\"58.2714\" y=\"-77.0325\" font-family=\"Times,serif\" font-size=\"14.00\" fill=\"#000000\">D</text>\n",
       "</g>\n",
       "<!-- A&#45;&gt;D -->\n",
       "<g id=\"edge1\" class=\"edge\">\n",
       "<title>A&#45;&gt;D</title>\n",
       "<path fill=\"none\" stroke=\"#000000\" d=\"M101.8331,-80.0478C99.8474,-80.079 97.8251,-80.1108 95.7931,-80.1427\"/>\n",
       "<polygon fill=\"#000000\" stroke=\"#000000\" points=\"95.6217,-76.6449 85.678,-80.3017 95.7318,-83.644 95.6217,-76.6449\"/>\n",
       "</g>\n",
       "<!-- B -->\n",
       "<g id=\"node2\" class=\"node\">\n",
       "<title>B</title>\n",
       "<ellipse fill=\"none\" stroke=\"#000000\" cx=\"141.0238\" cy=\"-18.465\" rx=\"27\" ry=\"18\"/>\n",
       "<text text-anchor=\"middle\" x=\"141.0238\" y=\"-14.765\" font-family=\"Times,serif\" font-size=\"14.00\" fill=\"#000000\">B</text>\n",
       "</g>\n",
       "<!-- B&#45;&gt;A -->\n",
       "<g id=\"edge3\" class=\"edge\">\n",
       "<title>B&#45;&gt;A</title>\n",
       "<path fill=\"none\" stroke=\"#000000\" d=\"M137.47,-36.4832C135.9133,-44.3755 134.0902,-53.619 132.5317,-61.5207\"/>\n",
       "</g>\n",
       "<!-- E -->\n",
       "<g id=\"node5\" class=\"node\">\n",
       "<title>E</title>\n",
       "<ellipse fill=\"none\" stroke=\"#000000\" cx=\"211.7148\" cy=\"-31.0083\" rx=\"27\" ry=\"18\"/>\n",
       "<text text-anchor=\"middle\" x=\"211.7148\" y=\"-27.3083\" font-family=\"Times,serif\" font-size=\"14.00\" fill=\"#000000\">E</text>\n",
       "</g>\n",
       "<!-- B&#45;&gt;E -->\n",
       "<g id=\"edge4\" class=\"edge\">\n",
       "<title>B&#45;&gt;E</title>\n",
       "<path fill=\"none\" stroke=\"#000000\" d=\"M167.3465,-23.1357C173.3132,-24.1944 179.6476,-25.3183 185.6055,-26.3755\"/>\n",
       "</g>\n",
       "<!-- C -->\n",
       "<g id=\"node3\" class=\"node\">\n",
       "<title>C</title>\n",
       "<ellipse fill=\"none\" stroke=\"#000000\" cx=\"27.4451\" cy=\"-28.9482\" rx=\"27\" ry=\"18\"/>\n",
       "<text text-anchor=\"middle\" x=\"27.4451\" y=\"-25.2482\" font-family=\"Times,serif\" font-size=\"14.00\" fill=\"#000000\">C</text>\n",
       "</g>\n",
       "<!-- C&#45;&gt;D -->\n",
       "<g id=\"edge2\" class=\"edge\">\n",
       "<title>C&#45;&gt;D</title>\n",
       "<path fill=\"none\" stroke=\"#000000\" d=\"M37.5388,-45.9043C39.3133,-48.8854 41.1951,-52.0465 43.0727,-55.2006\"/>\n",
       "<polygon fill=\"#000000\" stroke=\"#000000\" points=\"40.1377,-57.1127 48.2603,-63.9152 46.1526,-53.5321 40.1377,-57.1127\"/>\n",
       "</g>\n",
       "<!-- F -->\n",
       "<g id=\"node6\" class=\"node\">\n",
       "<title>F</title>\n",
       "<ellipse fill=\"none\" stroke=\"#000000\" cx=\"209.2381\" cy=\"-95.6409\" rx=\"27\" ry=\"18\"/>\n",
       "<text text-anchor=\"middle\" x=\"209.2381\" y=\"-91.9409\" font-family=\"Times,serif\" font-size=\"14.00\" fill=\"#000000\">F</text>\n",
       "</g>\n",
       "</g>\n",
       "</svg>\n"
      ],
      "text/plain": [
       "<graphviz.dot.Digraph at 0x7f3e16953a58>"
      ]
     },
     "execution_count": 14,
     "metadata": {},
     "output_type": "execute_result"
    }
   ],
   "source": [
    "hnet1 = pybnl.bn.HybridScoreAndConstainedBasedNetFromDataDiscreteBayesNetwork(df_lt)\n",
    "hnet1.fit()\n",
    "hnet1.structure().cpdag().dot()"
   ]
  },
  {
   "cell_type": "code",
   "execution_count": 15,
   "metadata": {},
   "outputs": [
    {
     "data": {
      "image/svg+xml": [
       "<?xml version=\"1.0\" encoding=\"UTF-8\" standalone=\"no\"?>\n",
       "<!DOCTYPE svg PUBLIC \"-//W3C//DTD SVG 1.1//EN\"\n",
       " \"http://www.w3.org/Graphics/SVG/1.1/DTD/svg11.dtd\">\n",
       "<!-- Generated by graphviz version 2.40.1 (20161225.0304)\n",
       " -->\n",
       "<!-- Title: %3 Pages: 1 -->\n",
       "<svg width=\"264pt\" height=\"153pt\"\n",
       " viewBox=\"0.00 0.00 264.00 153.00\" xmlns=\"http://www.w3.org/2000/svg\" xmlns:xlink=\"http://www.w3.org/1999/xlink\">\n",
       "<g id=\"graph0\" class=\"graph\" transform=\"scale(1 1) rotate(0) translate(4 149)\">\n",
       "<title>%3</title>\n",
       "<polygon fill=\"#ffffff\" stroke=\"transparent\" points=\"-4,4 -4,-149 260,-149 260,4 -4,4\"/>\n",
       "<!-- A -->\n",
       "<g id=\"node1\" class=\"node\">\n",
       "<title>A</title>\n",
       "<ellipse fill=\"none\" stroke=\"#000000\" cx=\"132.8812\" cy=\"-18.0519\" rx=\"27\" ry=\"18\"/>\n",
       "<text text-anchor=\"middle\" x=\"132.8812\" y=\"-14.3519\" font-family=\"Times,serif\" font-size=\"14.00\" fill=\"#000000\">A</text>\n",
       "</g>\n",
       "<!-- D -->\n",
       "<g id=\"node4\" class=\"node\">\n",
       "<title>D</title>\n",
       "<ellipse fill=\"none\" stroke=\"#000000\" cx=\"90.9628\" cy=\"-71.343\" rx=\"27\" ry=\"18\"/>\n",
       "<text text-anchor=\"middle\" x=\"90.9628\" y=\"-67.643\" font-family=\"Times,serif\" font-size=\"14.00\" fill=\"#000000\">D</text>\n",
       "</g>\n",
       "<!-- A&#45;&gt;D -->\n",
       "<g id=\"edge4\" class=\"edge\">\n",
       "<title>A&#45;&gt;D</title>\n",
       "<path fill=\"none\" stroke=\"#000000\" d=\"M120.3043,-34.041C116.9884,-38.2566 113.3373,-42.8982 109.7702,-47.433\"/>\n",
       "<polygon fill=\"#000000\" stroke=\"#000000\" points=\"106.9624,-45.3415 103.5308,-55.3652 112.4643,-49.6693 106.9624,-45.3415\"/>\n",
       "</g>\n",
       "<!-- B -->\n",
       "<g id=\"node2\" class=\"node\">\n",
       "<title>B</title>\n",
       "<ellipse fill=\"none\" stroke=\"#000000\" cx=\"196.1529\" cy=\"-18.7198\" rx=\"27\" ry=\"18\"/>\n",
       "<text text-anchor=\"middle\" x=\"196.1529\" y=\"-15.0198\" font-family=\"Times,serif\" font-size=\"14.00\" fill=\"#000000\">B</text>\n",
       "</g>\n",
       "<!-- B&#45;&gt;A -->\n",
       "<g id=\"edge5\" class=\"edge\">\n",
       "<title>B&#45;&gt;A</title>\n",
       "<path fill=\"none\" stroke=\"#000000\" d=\"M168.9528,-18.4327C166.0054,-18.4016 163.0055,-18.3699 160.0583,-18.3388\"/>\n",
       "</g>\n",
       "<!-- E -->\n",
       "<g id=\"node5\" class=\"node\">\n",
       "<title>E</title>\n",
       "<ellipse fill=\"none\" stroke=\"#000000\" cx=\"228.9585\" cy=\"-71.2925\" rx=\"27\" ry=\"18\"/>\n",
       "<text text-anchor=\"middle\" x=\"228.9585\" y=\"-67.5925\" font-family=\"Times,serif\" font-size=\"14.00\" fill=\"#000000\">E</text>\n",
       "</g>\n",
       "<!-- B&#45;&gt;E -->\n",
       "<g id=\"edge3\" class=\"edge\">\n",
       "<title>B&#45;&gt;E</title>\n",
       "<path fill=\"none\" stroke=\"#000000\" d=\"M206.5328,-35.3541C208.627,-38.7102 210.8733,-42.31 213.106,-45.888\"/>\n",
       "<polygon fill=\"#000000\" stroke=\"#000000\" points=\"210.2702,-47.955 218.5335,-54.5859 216.2089,-44.2492 210.2702,-47.955\"/>\n",
       "</g>\n",
       "<!-- C -->\n",
       "<g id=\"node3\" class=\"node\">\n",
       "<title>C</title>\n",
       "<ellipse fill=\"none\" stroke=\"#000000\" cx=\"26.9557\" cy=\"-48.0945\" rx=\"27\" ry=\"18\"/>\n",
       "<text text-anchor=\"middle\" x=\"26.9557\" y=\"-44.3945\" font-family=\"Times,serif\" font-size=\"14.00\" fill=\"#000000\">C</text>\n",
       "</g>\n",
       "<!-- C&#45;&gt;D -->\n",
       "<g id=\"edge2\" class=\"edge\">\n",
       "<title>C&#45;&gt;D</title>\n",
       "<path fill=\"none\" stroke=\"#000000\" d=\"M50.7896,-56.7514C52.9266,-57.5276 55.1157,-58.3227 57.3152,-59.1216\"/>\n",
       "<polygon fill=\"#000000\" stroke=\"#000000\" points=\"56.3014,-62.4771 66.8955,-62.6014 58.6912,-55.8976 56.3014,-62.4771\"/>\n",
       "</g>\n",
       "<!-- F -->\n",
       "<g id=\"node6\" class=\"node\">\n",
       "<title>F</title>\n",
       "<ellipse fill=\"none\" stroke=\"#000000\" cx=\"187.1594\" cy=\"-126.5145\" rx=\"27\" ry=\"18\"/>\n",
       "<text text-anchor=\"middle\" x=\"187.1594\" y=\"-122.8145\" font-family=\"Times,serif\" font-size=\"14.00\" fill=\"#000000\">F</text>\n",
       "</g>\n",
       "<!-- F&#45;&gt;E -->\n",
       "<g id=\"edge1\" class=\"edge\">\n",
       "<title>F&#45;&gt;E</title>\n",
       "<path fill=\"none\" stroke=\"#000000\" d=\"M199.4744,-110.2448C202.9301,-105.6794 206.7648,-100.6132 210.4946,-95.6857\"/>\n",
       "<polygon fill=\"#000000\" stroke=\"#000000\" points=\"213.3424,-97.7226 216.5871,-87.6368 207.761,-93.4978 213.3424,-97.7226\"/>\n",
       "</g>\n",
       "</g>\n",
       "</svg>\n"
      ],
      "text/plain": [
       "<graphviz.dot.Digraph at 0x7f3e1695f080>"
      ]
     },
     "execution_count": 15,
     "metadata": {},
     "output_type": "execute_result"
    }
   ],
   "source": [
    "hnet2 = pybnl.bn.HybridScoreAndConstainedBasedNetFromDataDiscreteBayesNetwork(df_lt, algorithm='rxmax2_sihitonpc_tabu')\n",
    "hnet2.fit()\n",
    "hnet2.structure().cpdag().dot()"
   ]
  },
  {
   "cell_type": "code",
   "execution_count": 16,
   "metadata": {
    "scrolled": true
   },
   "outputs": [
    {
     "data": {
      "text/html": [
       "<div>\n",
       "<style scoped>\n",
       "    .dataframe tbody tr th:only-of-type {\n",
       "        vertical-align: middle;\n",
       "    }\n",
       "\n",
       "    .dataframe tbody tr th {\n",
       "        vertical-align: top;\n",
       "    }\n",
       "\n",
       "    .dataframe thead th {\n",
       "        text-align: right;\n",
       "    }\n",
       "</style>\n",
       "<table border=\"1\" class=\"dataframe\">\n",
       "  <thead>\n",
       "    <tr style=\"text-align: right;\">\n",
       "      <th></th>\n",
       "      <th>X</th>\n",
       "      <th>Z</th>\n",
       "      <th>Y</th>\n",
       "    </tr>\n",
       "  </thead>\n",
       "  <tbody>\n",
       "    <tr>\n",
       "      <th>0</th>\n",
       "      <td>A</td>\n",
       "      <td>D</td>\n",
       "      <td>C</td>\n",
       "    </tr>\n",
       "    <tr>\n",
       "      <th>1</th>\n",
       "      <td>B</td>\n",
       "      <td>E</td>\n",
       "      <td>F</td>\n",
       "    </tr>\n",
       "  </tbody>\n",
       "</table>\n",
       "</div>"
      ],
      "text/plain": [
       "   X  Z  Y\n",
       "0  A  D  C\n",
       "1  B  E  F"
      ]
     },
     "execution_count": 16,
     "metadata": {},
     "output_type": "execute_result"
    }
   ],
   "source": [
    "hnet2.structure().cpdag().vstructs()"
   ]
  },
  {
   "cell_type": "markdown",
   "metadata": {},
   "source": [
    "# marks"
   ]
  },
  {
   "cell_type": "markdown",
   "metadata": {},
   "source": [
    "Let's take the detour of loading the `R` data set, writing it to CSV and then loading the CSV via pandas from python. Like that we're sure we have a typical starting position in a `python` data workflow."
   ]
  },
  {
   "cell_type": "code",
   "execution_count": 17,
   "metadata": {},
   "outputs": [],
   "source": [
    "%%R -o marks\n",
    "library(bnlearn)\n",
    "data(marks)\n",
    "write.csv(marks, file = \"marks.csv\")"
   ]
  },
  {
   "cell_type": "code",
   "execution_count": 18,
   "metadata": {},
   "outputs": [
    {
     "data": {
      "text/html": [
       "<div>\n",
       "<style scoped>\n",
       "    .dataframe tbody tr th:only-of-type {\n",
       "        vertical-align: middle;\n",
       "    }\n",
       "\n",
       "    .dataframe tbody tr th {\n",
       "        vertical-align: top;\n",
       "    }\n",
       "\n",
       "    .dataframe thead th {\n",
       "        text-align: right;\n",
       "    }\n",
       "</style>\n",
       "<table border=\"1\" class=\"dataframe\">\n",
       "  <thead>\n",
       "    <tr style=\"text-align: right;\">\n",
       "      <th></th>\n",
       "      <th>MECH</th>\n",
       "      <th>VECT</th>\n",
       "      <th>ALG</th>\n",
       "      <th>ANL</th>\n",
       "      <th>STAT</th>\n",
       "    </tr>\n",
       "  </thead>\n",
       "  <tbody>\n",
       "    <tr>\n",
       "      <th>1</th>\n",
       "      <td>77.0</td>\n",
       "      <td>82.0</td>\n",
       "      <td>67.0</td>\n",
       "      <td>67.0</td>\n",
       "      <td>81.0</td>\n",
       "    </tr>\n",
       "    <tr>\n",
       "      <th>2</th>\n",
       "      <td>63.0</td>\n",
       "      <td>78.0</td>\n",
       "      <td>80.0</td>\n",
       "      <td>70.0</td>\n",
       "      <td>81.0</td>\n",
       "    </tr>\n",
       "    <tr>\n",
       "      <th>3</th>\n",
       "      <td>75.0</td>\n",
       "      <td>73.0</td>\n",
       "      <td>71.0</td>\n",
       "      <td>66.0</td>\n",
       "      <td>81.0</td>\n",
       "    </tr>\n",
       "    <tr>\n",
       "      <th>4</th>\n",
       "      <td>55.0</td>\n",
       "      <td>72.0</td>\n",
       "      <td>63.0</td>\n",
       "      <td>70.0</td>\n",
       "      <td>68.0</td>\n",
       "    </tr>\n",
       "    <tr>\n",
       "      <th>5</th>\n",
       "      <td>63.0</td>\n",
       "      <td>63.0</td>\n",
       "      <td>65.0</td>\n",
       "      <td>70.0</td>\n",
       "      <td>63.0</td>\n",
       "    </tr>\n",
       "  </tbody>\n",
       "</table>\n",
       "</div>"
      ],
      "text/plain": [
       "   MECH  VECT   ALG   ANL  STAT\n",
       "1  77.0  82.0  67.0  67.0  81.0\n",
       "2  63.0  78.0  80.0  70.0  81.0\n",
       "3  75.0  73.0  71.0  66.0  81.0\n",
       "4  55.0  72.0  63.0  70.0  68.0\n",
       "5  63.0  63.0  65.0  70.0  63.0"
      ]
     },
     "execution_count": 18,
     "metadata": {},
     "output_type": "execute_result"
    }
   ],
   "source": [
    "pd_marks = pd.read_csv('marks.csv', index_col=0).astype(np.float64)\n",
    "pd_marks.head()"
   ]
  },
  {
   "cell_type": "code",
   "execution_count": 19,
   "metadata": {},
   "outputs": [],
   "source": [
    "hbt = pybnl.bn.HarteminkBinTransformer(3,ibreaks=18)\n",
    "dmarks = hbt.fit_transform(X=pd_marks)"
   ]
  },
  {
   "cell_type": "code",
   "execution_count": 20,
   "metadata": {},
   "outputs": [
    {
     "name": "stdout",
     "output_type": "stream",
     "text": [
      "<class 'pandas.core.frame.DataFrame'>\n",
      "RangeIndex: 88 entries, 0 to 87\n",
      "Data columns (total 5 columns):\n",
      " #   Column  Non-Null Count  Dtype   \n",
      "---  ------  --------------  -----   \n",
      " 0   MECH    88 non-null     category\n",
      " 1   VECT    88 non-null     category\n",
      " 2   ALG     88 non-null     category\n",
      " 3   ANL     88 non-null     category\n",
      " 4   STAT    88 non-null     category\n",
      "dtypes: category(5)\n",
      "memory usage: 1.1 KB\n"
     ]
    }
   ],
   "source": [
    "# dmarks = pybnl.bn.discretize(pd_marks)\n",
    "dmarks.info()"
   ]
  },
  {
   "cell_type": "code",
   "execution_count": 21,
   "metadata": {},
   "outputs": [
    {
     "data": {
      "text/plain": [
       "CategoricalDtype(categories=['(0,35.8]', '(35.8,49]', '(49,77]'], ordered=False)"
      ]
     },
     "execution_count": 21,
     "metadata": {},
     "output_type": "execute_result"
    }
   ],
   "source": [
    "dmarks['MECH'].dtype"
   ]
  },
  {
   "cell_type": "code",
   "execution_count": 22,
   "metadata": {},
   "outputs": [
    {
     "data": {
      "text/html": [
       "<div>\n",
       "<style scoped>\n",
       "    .dataframe tbody tr th:only-of-type {\n",
       "        vertical-align: middle;\n",
       "    }\n",
       "\n",
       "    .dataframe tbody tr th {\n",
       "        vertical-align: top;\n",
       "    }\n",
       "\n",
       "    .dataframe thead th {\n",
       "        text-align: right;\n",
       "    }\n",
       "</style>\n",
       "<table border=\"1\" class=\"dataframe\">\n",
       "  <thead>\n",
       "    <tr style=\"text-align: right;\">\n",
       "      <th></th>\n",
       "      <th>MECH</th>\n",
       "      <th>VECT</th>\n",
       "      <th>ALG</th>\n",
       "      <th>ANL</th>\n",
       "      <th>STAT</th>\n",
       "    </tr>\n",
       "  </thead>\n",
       "  <tbody>\n",
       "    <tr>\n",
       "      <th>0</th>\n",
       "      <td>(49,77]</td>\n",
       "      <td>(60.7,82]</td>\n",
       "      <td>(58.7,80]</td>\n",
       "      <td>(62.3,70]</td>\n",
       "      <td>(53.7,81]</td>\n",
       "    </tr>\n",
       "    <tr>\n",
       "      <th>1</th>\n",
       "      <td>(49,77]</td>\n",
       "      <td>(60.7,82]</td>\n",
       "      <td>(58.7,80]</td>\n",
       "      <td>(62.3,70]</td>\n",
       "      <td>(53.7,81]</td>\n",
       "    </tr>\n",
       "    <tr>\n",
       "      <th>2</th>\n",
       "      <td>(49,77]</td>\n",
       "      <td>(60.7,82]</td>\n",
       "      <td>(58.7,80]</td>\n",
       "      <td>(62.3,70]</td>\n",
       "      <td>(53.7,81]</td>\n",
       "    </tr>\n",
       "    <tr>\n",
       "      <th>3</th>\n",
       "      <td>(49,77]</td>\n",
       "      <td>(60.7,82]</td>\n",
       "      <td>(58.7,80]</td>\n",
       "      <td>(62.3,70]</td>\n",
       "      <td>(53.7,81]</td>\n",
       "    </tr>\n",
       "    <tr>\n",
       "      <th>4</th>\n",
       "      <td>(49,77]</td>\n",
       "      <td>(60.7,82]</td>\n",
       "      <td>(58.7,80]</td>\n",
       "      <td>(62.3,70]</td>\n",
       "      <td>(53.7,81]</td>\n",
       "    </tr>\n",
       "  </tbody>\n",
       "</table>\n",
       "</div>"
      ],
      "text/plain": [
       "      MECH       VECT        ALG        ANL       STAT\n",
       "0  (49,77]  (60.7,82]  (58.7,80]  (62.3,70]  (53.7,81]\n",
       "1  (49,77]  (60.7,82]  (58.7,80]  (62.3,70]  (53.7,81]\n",
       "2  (49,77]  (60.7,82]  (58.7,80]  (62.3,70]  (53.7,81]\n",
       "3  (49,77]  (60.7,82]  (58.7,80]  (62.3,70]  (53.7,81]\n",
       "4  (49,77]  (60.7,82]  (58.7,80]  (62.3,70]  (53.7,81]"
      ]
     },
     "execution_count": 22,
     "metadata": {},
     "output_type": "execute_result"
    }
   ],
   "source": [
    "dmarks.head()"
   ]
  },
  {
   "cell_type": "markdown",
   "metadata": {},
   "source": [
    "Let's also create immediately a marks data-frame that include one additional latent variable that we will need later:"
   ]
  },
  {
   "cell_type": "code",
   "execution_count": 23,
   "metadata": {},
   "outputs": [
    {
     "name": "stdout",
     "output_type": "stream",
     "text": [
      "['l000', 'l001', 'l002']\n"
     ]
    },
    {
     "data": {
      "text/html": [
       "<div>\n",
       "<style scoped>\n",
       "    .dataframe tbody tr th:only-of-type {\n",
       "        vertical-align: middle;\n",
       "    }\n",
       "\n",
       "    .dataframe tbody tr th {\n",
       "        vertical-align: top;\n",
       "    }\n",
       "\n",
       "    .dataframe thead th {\n",
       "        text-align: right;\n",
       "    }\n",
       "</style>\n",
       "<table border=\"1\" class=\"dataframe\">\n",
       "  <thead>\n",
       "    <tr style=\"text-align: right;\">\n",
       "      <th></th>\n",
       "      <th>MECH</th>\n",
       "      <th>VECT</th>\n",
       "      <th>ALG</th>\n",
       "      <th>ANL</th>\n",
       "      <th>STAT</th>\n",
       "      <th>LAT</th>\n",
       "    </tr>\n",
       "  </thead>\n",
       "  <tbody>\n",
       "    <tr>\n",
       "      <th>0</th>\n",
       "      <td>(49,77]</td>\n",
       "      <td>(60.7,82]</td>\n",
       "      <td>(58.7,80]</td>\n",
       "      <td>(62.3,70]</td>\n",
       "      <td>(53.7,81]</td>\n",
       "      <td>NaN</td>\n",
       "    </tr>\n",
       "    <tr>\n",
       "      <th>1</th>\n",
       "      <td>(49,77]</td>\n",
       "      <td>(60.7,82]</td>\n",
       "      <td>(58.7,80]</td>\n",
       "      <td>(62.3,70]</td>\n",
       "      <td>(53.7,81]</td>\n",
       "      <td>NaN</td>\n",
       "    </tr>\n",
       "    <tr>\n",
       "      <th>2</th>\n",
       "      <td>(49,77]</td>\n",
       "      <td>(60.7,82]</td>\n",
       "      <td>(58.7,80]</td>\n",
       "      <td>(62.3,70]</td>\n",
       "      <td>(53.7,81]</td>\n",
       "      <td>NaN</td>\n",
       "    </tr>\n",
       "    <tr>\n",
       "      <th>3</th>\n",
       "      <td>(49,77]</td>\n",
       "      <td>(60.7,82]</td>\n",
       "      <td>(58.7,80]</td>\n",
       "      <td>(62.3,70]</td>\n",
       "      <td>(53.7,81]</td>\n",
       "      <td>NaN</td>\n",
       "    </tr>\n",
       "    <tr>\n",
       "      <th>4</th>\n",
       "      <td>(49,77]</td>\n",
       "      <td>(60.7,82]</td>\n",
       "      <td>(58.7,80]</td>\n",
       "      <td>(62.3,70]</td>\n",
       "      <td>(53.7,81]</td>\n",
       "      <td>NaN</td>\n",
       "    </tr>\n",
       "  </tbody>\n",
       "</table>\n",
       "</div>"
      ],
      "text/plain": [
       "      MECH       VECT        ALG        ANL       STAT  LAT\n",
       "0  (49,77]  (60.7,82]  (58.7,80]  (62.3,70]  (53.7,81]  NaN\n",
       "1  (49,77]  (60.7,82]  (58.7,80]  (62.3,70]  (53.7,81]  NaN\n",
       "2  (49,77]  (60.7,82]  (58.7,80]  (62.3,70]  (53.7,81]  NaN\n",
       "3  (49,77]  (60.7,82]  (58.7,80]  (62.3,70]  (53.7,81]  NaN\n",
       "4  (49,77]  (60.7,82]  (58.7,80]  (62.3,70]  (53.7,81]  NaN"
      ]
     },
     "execution_count": 23,
     "metadata": {},
     "output_type": "execute_result"
    }
   ],
   "source": [
    "ldmarks = dmarks.copy()\n",
    "pybnl.bn.augment_df_with_latent_variable(ldmarks, 'LAT', 3)\n",
    "print(pybnl.bn.levels_of_latent_variable(ldmarks,'LAT'))\n",
    "ldmarks.head()"
   ]
  },
  {
   "cell_type": "markdown",
   "metadata": {},
   "source": [
    "## NetAndDataDiscreteBayesNetwork"
   ]
  },
  {
   "cell_type": "markdown",
   "metadata": {},
   "source": [
    "### Create network by hand"
   ]
  },
  {
   "cell_type": "code",
   "execution_count": 24,
   "metadata": {},
   "outputs": [],
   "source": [
    "dg = nx.DiGraph()\n",
    "# G.add_node(1)\n",
    "dg.add_nodes_from(list(marks.columns))\n",
    "dg.add_edges_from([\n",
    "    ['STAT', 'ANL'],\n",
    "    ['STAT', 'ALG'],\n",
    "    ['ANL', 'ALG'],\n",
    "    ['ALG', 'MECH'],\n",
    "    ['ALG', 'VECT'],\n",
    "    ['VECT', 'MECH'],\n",
    "])"
   ]
  },
  {
   "cell_type": "code",
   "execution_count": 25,
   "metadata": {},
   "outputs": [
    {
     "data": {
      "text/plain": [
       "[{'ALG', 'ANL', 'MECH', 'STAT', 'VECT'}]"
      ]
     },
     "execution_count": 25,
     "metadata": {},
     "output_type": "execute_result"
    }
   ],
   "source": [
    "list(nx.connected_components(dg.to_undirected()))"
   ]
  },
  {
   "cell_type": "code",
   "execution_count": 26,
   "metadata": {},
   "outputs": [],
   "source": [
    "ns = pybnl.bn.digraph2netstruct(dg)"
   ]
  },
  {
   "cell_type": "markdown",
   "metadata": {},
   "source": [
    "You can display the graph either in the 'dot' format or in the default more compact 'fdp' format"
   ]
  },
  {
   "cell_type": "code",
   "execution_count": 27,
   "metadata": {},
   "outputs": [
    {
     "data": {
      "text/plain": [
       "graphviz.dot.Digraph"
      ]
     },
     "execution_count": 27,
     "metadata": {},
     "output_type": "execute_result"
    }
   ],
   "source": [
    "type(ns.dot())"
   ]
  },
  {
   "cell_type": "code",
   "execution_count": 28,
   "metadata": {},
   "outputs": [
    {
     "data": {
      "text/html": [
       "<table><tr><td><?xml version=\"1.0\" encoding=\"UTF-8\" standalone=\"no\"?>\n",
       "<!DOCTYPE svg PUBLIC \"-//W3C//DTD SVG 1.1//EN\"\n",
       " \"http://www.w3.org/Graphics/SVG/1.1/DTD/svg11.dtd\">\n",
       "<!-- Generated by graphviz version 2.40.1 (20161225.0304)\n",
       " -->\n",
       "<!-- Title: %3 Pages: 1 -->\n",
       "<svg width=\"109pt\" height=\"332pt\"\n",
       " viewBox=\"0.00 0.00 109.19 332.00\" xmlns=\"http://www.w3.org/2000/svg\" xmlns:xlink=\"http://www.w3.org/1999/xlink\">\n",
       "<g id=\"graph0\" class=\"graph\" transform=\"scale(1 1) rotate(0) translate(4 328)\">\n",
       "<title>%3</title>\n",
       "<polygon fill=\"#ffffff\" stroke=\"transparent\" points=\"-4,4 -4,-328 105.1938,-328 105.1938,4 -4,4\"/>\n",
       "<!-- ALG -->\n",
       "<g id=\"node1\" class=\"node\">\n",
       "<title>ALG</title>\n",
       "<ellipse fill=\"none\" stroke=\"#000000\" cx=\"36.3968\" cy=\"-162\" rx=\"28.6953\" ry=\"18\"/>\n",
       "<text text-anchor=\"middle\" x=\"36.3968\" y=\"-158.3\" font-family=\"Times,serif\" font-size=\"14.00\" fill=\"#000000\">ALG</text>\n",
       "</g>\n",
       "<!-- MECH -->\n",
       "<g id=\"node3\" class=\"node\">\n",
       "<title>MECH</title>\n",
       "<ellipse fill=\"none\" stroke=\"#000000\" cx=\"36.3968\" cy=\"-18\" rx=\"36.2938\" ry=\"18\"/>\n",
       "<text text-anchor=\"middle\" x=\"36.3968\" y=\"-14.3\" font-family=\"Times,serif\" font-size=\"14.00\" fill=\"#000000\">MECH</text>\n",
       "</g>\n",
       "<!-- ALG&#45;&gt;MECH -->\n",
       "<g id=\"edge1\" class=\"edge\">\n",
       "<title>ALG&#45;&gt;MECH</title>\n",
       "<path fill=\"none\" stroke=\"#000000\" d=\"M31.4028,-144.1645C28.7381,-133.7193 25.7381,-120.2193 24.3968,-108 22.6509,-92.0955 22.6509,-87.9045 24.3968,-72 25.3399,-63.4083 27.103,-54.1834 28.9931,-45.8325\"/>\n",
       "<polygon fill=\"#000000\" stroke=\"#000000\" points=\"32.4619,-46.3773 31.4028,-35.8355 25.6568,-44.7369 32.4619,-46.3773\"/>\n",
       "</g>\n",
       "<!-- VECT -->\n",
       "<g id=\"node5\" class=\"node\">\n",
       "<title>VECT</title>\n",
       "<ellipse fill=\"none\" stroke=\"#000000\" cx=\"67.3968\" cy=\"-90\" rx=\"33.5952\" ry=\"18\"/>\n",
       "<text text-anchor=\"middle\" x=\"67.3968\" y=\"-86.3\" font-family=\"Times,serif\" font-size=\"14.00\" fill=\"#000000\">VECT</text>\n",
       "</g>\n",
       "<!-- ALG&#45;&gt;VECT -->\n",
       "<g id=\"edge2\" class=\"edge\">\n",
       "<title>ALG&#45;&gt;VECT</title>\n",
       "<path fill=\"none\" stroke=\"#000000\" d=\"M43.901,-144.5708C47.4652,-136.2927 51.8062,-126.2104 55.7824,-116.9752\"/>\n",
       "<polygon fill=\"#000000\" stroke=\"#000000\" points=\"59.0063,-118.3379 59.7463,-107.7689 52.5769,-115.5696 59.0063,-118.3379\"/>\n",
       "</g>\n",
       "<!-- ANL -->\n",
       "<g id=\"node2\" class=\"node\">\n",
       "<title>ANL</title>\n",
       "<ellipse fill=\"none\" stroke=\"#000000\" cx=\"65.3968\" cy=\"-234\" rx=\"28.6953\" ry=\"18\"/>\n",
       "<text text-anchor=\"middle\" x=\"65.3968\" y=\"-230.3\" font-family=\"Times,serif\" font-size=\"14.00\" fill=\"#000000\">ANL</text>\n",
       "</g>\n",
       "<!-- ANL&#45;&gt;ALG -->\n",
       "<g id=\"edge3\" class=\"edge\">\n",
       "<title>ANL&#45;&gt;ALG</title>\n",
       "<path fill=\"none\" stroke=\"#000000\" d=\"M58.2282,-216.2022C54.9271,-208.0064 50.938,-198.1024 47.2776,-189.0145\"/>\n",
       "<polygon fill=\"#000000\" stroke=\"#000000\" points=\"50.4656,-187.5612 43.4829,-179.593 43.9725,-190.1766 50.4656,-187.5612\"/>\n",
       "</g>\n",
       "<!-- STAT -->\n",
       "<g id=\"node4\" class=\"node\">\n",
       "<title>STAT</title>\n",
       "<ellipse fill=\"none\" stroke=\"#000000\" cx=\"36.3968\" cy=\"-306\" rx=\"32.4942\" ry=\"18\"/>\n",
       "<text text-anchor=\"middle\" x=\"36.3968\" y=\"-302.3\" font-family=\"Times,serif\" font-size=\"14.00\" fill=\"#000000\">STAT</text>\n",
       "</g>\n",
       "<!-- STAT&#45;&gt;ALG -->\n",
       "<g id=\"edge4\" class=\"edge\">\n",
       "<title>STAT&#45;&gt;ALG</title>\n",
       "<path fill=\"none\" stroke=\"#000000\" d=\"M32.6493,-288.0931C30.6502,-277.6241 28.4002,-264.1241 27.3968,-252 26.0771,-236.0545 26.0771,-231.9455 27.3968,-216 28.1023,-207.4753 29.4241,-198.2703 30.8417,-189.917\"/>\n",
       "<polygon fill=\"#000000\" stroke=\"#000000\" points=\"34.3165,-190.3698 32.6493,-179.9069 27.4279,-189.1258 34.3165,-190.3698\"/>\n",
       "</g>\n",
       "<!-- STAT&#45;&gt;ANL -->\n",
       "<g id=\"edge5\" class=\"edge\">\n",
       "<title>STAT&#45;&gt;ANL</title>\n",
       "<path fill=\"none\" stroke=\"#000000\" d=\"M43.5653,-288.2022C46.8664,-280.0064 50.8555,-270.1024 54.5159,-261.0145\"/>\n",
       "<polygon fill=\"#000000\" stroke=\"#000000\" points=\"57.8211,-262.1766 58.3107,-251.593 51.328,-259.5612 57.8211,-262.1766\"/>\n",
       "</g>\n",
       "<!-- VECT&#45;&gt;MECH -->\n",
       "<g id=\"edge6\" class=\"edge\">\n",
       "<title>VECT&#45;&gt;MECH</title>\n",
       "<path fill=\"none\" stroke=\"#000000\" d=\"M59.7338,-72.2022C56.2314,-64.0675 52.0045,-54.2501 48.1157,-45.2181\"/>\n",
       "<polygon fill=\"#000000\" stroke=\"#000000\" points=\"51.2483,-43.6433 44.079,-35.8425 44.8189,-46.4115 51.2483,-43.6433\"/>\n",
       "</g>\n",
       "</g>\n",
       "</svg>\n",
       "</td><td><?xml version=\"1.0\" encoding=\"UTF-8\" standalone=\"no\"?>\n",
       "<!DOCTYPE svg PUBLIC \"-//W3C//DTD SVG 1.1//EN\"\n",
       " \"http://www.w3.org/Graphics/SVG/1.1/DTD/svg11.dtd\">\n",
       "<!-- Generated by graphviz version 2.40.1 (20161225.0304)\n",
       " -->\n",
       "<!-- Title: %3 Pages: 1 -->\n",
       "<svg width=\"190pt\" height=\"177pt\"\n",
       " viewBox=\"0.00 0.00 190.00 177.00\" xmlns=\"http://www.w3.org/2000/svg\" xmlns:xlink=\"http://www.w3.org/1999/xlink\">\n",
       "<g id=\"graph0\" class=\"graph\" transform=\"scale(1 1) rotate(0) translate(4 173)\">\n",
       "<title>%3</title>\n",
       "<polygon fill=\"#ffffff\" stroke=\"transparent\" points=\"-4,4 -4,-173 186,-173 186,4 -4,4\"/>\n",
       "<!-- ALG -->\n",
       "<g id=\"node1\" class=\"node\">\n",
       "<title>ALG</title>\n",
       "<ellipse fill=\"none\" stroke=\"#000000\" cx=\"67.3343\" cy=\"-78.1743\" rx=\"28.6953\" ry=\"18\"/>\n",
       "<text text-anchor=\"middle\" x=\"67.3343\" y=\"-74.4743\" font-family=\"Times,serif\" font-size=\"14.00\" fill=\"#000000\">ALG</text>\n",
       "</g>\n",
       "<!-- MECH -->\n",
       "<g id=\"node3\" class=\"node\">\n",
       "<title>MECH</title>\n",
       "<ellipse fill=\"none\" stroke=\"#000000\" cx=\"36.7281\" cy=\"-27.1306\" rx=\"36.2938\" ry=\"18\"/>\n",
       "<text text-anchor=\"middle\" x=\"36.7281\" y=\"-23.4306\" font-family=\"Times,serif\" font-size=\"14.00\" fill=\"#000000\">MECH</text>\n",
       "</g>\n",
       "<!-- ALG&#45;&gt;MECH -->\n",
       "<g id=\"edge1\" class=\"edge\">\n",
       "<title>ALG&#45;&gt;MECH</title>\n",
       "<path fill=\"none\" stroke=\"#000000\" d=\"M57.1429,-61.1775C55.6431,-58.6761 54.0692,-56.0513 52.4889,-53.4157\"/>\n",
       "<polygon fill=\"#000000\" stroke=\"#000000\" points=\"55.3331,-51.353 47.1888,-44.5765 49.3296,-54.9528 55.3331,-51.353\"/>\n",
       "</g>\n",
       "<!-- VECT -->\n",
       "<g id=\"node5\" class=\"node\">\n",
       "<title>VECT</title>\n",
       "<ellipse fill=\"none\" stroke=\"#000000\" cx=\"121.8235\" cy=\"-17.6731\" rx=\"33.5952\" ry=\"18\"/>\n",
       "<text text-anchor=\"middle\" x=\"121.8235\" y=\"-13.9731\" font-family=\"Times,serif\" font-size=\"14.00\" fill=\"#000000\">VECT</text>\n",
       "</g>\n",
       "<!-- ALG&#45;&gt;VECT -->\n",
       "<g id=\"edge2\" class=\"edge\">\n",
       "<title>ALG&#45;&gt;VECT</title>\n",
       "<path fill=\"none\" stroke=\"#000000\" d=\"M81.6507,-62.2783C87.2712,-56.0377 93.8474,-48.736 100.0325,-41.8684\"/>\n",
       "<polygon fill=\"#000000\" stroke=\"#000000\" points=\"102.9415,-43.8684 107.033,-34.0955 97.74,-39.1838 102.9415,-43.8684\"/>\n",
       "</g>\n",
       "<!-- ANL -->\n",
       "<g id=\"node2\" class=\"node\">\n",
       "<title>ANL</title>\n",
       "<ellipse fill=\"none\" stroke=\"#000000\" cx=\"153.3241\" cy=\"-106.0845\" rx=\"28.6953\" ry=\"18\"/>\n",
       "<text text-anchor=\"middle\" x=\"153.3241\" y=\"-102.3845\" font-family=\"Times,serif\" font-size=\"14.00\" fill=\"#000000\">ANL</text>\n",
       "</g>\n",
       "<!-- ANL&#45;&gt;ALG -->\n",
       "<g id=\"edge3\" class=\"edge\">\n",
       "<title>ANL&#45;&gt;ALG</title>\n",
       "<path fill=\"none\" stroke=\"#000000\" d=\"M127.5244,-97.7105C119.6307,-95.1484 110.8113,-92.2859 102.4098,-89.5589\"/>\n",
       "<polygon fill=\"#000000\" stroke=\"#000000\" points=\"103.4117,-86.2044 92.8196,-86.4462 101.2506,-92.8625 103.4117,-86.2044\"/>\n",
       "</g>\n",
       "<!-- STAT -->\n",
       "<g id=\"node4\" class=\"node\">\n",
       "<title>STAT</title>\n",
       "<ellipse fill=\"none\" stroke=\"#000000\" cx=\"74.55\" cy=\"-150.8809\" rx=\"32.4942\" ry=\"18\"/>\n",
       "<text text-anchor=\"middle\" x=\"74.55\" y=\"-147.1809\" font-family=\"Times,serif\" font-size=\"14.00\" fill=\"#000000\">STAT</text>\n",
       "</g>\n",
       "<!-- STAT&#45;&gt;ALG -->\n",
       "<g id=\"edge4\" class=\"edge\">\n",
       "<title>STAT&#45;&gt;ALG</title>\n",
       "<path fill=\"none\" stroke=\"#000000\" d=\"M72.7292,-132.534C71.9456,-124.6384 71.0116,-115.2267 70.1427,-106.4714\"/>\n",
       "<polygon fill=\"#000000\" stroke=\"#000000\" points=\"73.6002,-105.8689 69.1296,-96.2635 66.6344,-106.5603 73.6002,-105.8689\"/>\n",
       "</g>\n",
       "<!-- STAT&#45;&gt;ANL -->\n",
       "<g id=\"edge5\" class=\"edge\">\n",
       "<title>STAT&#45;&gt;ANL</title>\n",
       "<path fill=\"none\" stroke=\"#000000\" d=\"M97.3348,-137.9239C105.3435,-133.3696 114.4731,-128.1779 123.0029,-123.3272\"/>\n",
       "<polygon fill=\"#000000\" stroke=\"#000000\" points=\"124.9792,-126.2298 131.9418,-118.244 121.5189,-120.1448 124.9792,-126.2298\"/>\n",
       "</g>\n",
       "<!-- VECT&#45;&gt;MECH -->\n",
       "<g id=\"edge6\" class=\"edge\">\n",
       "<title>VECT&#45;&gt;MECH</title>\n",
       "<path fill=\"none\" stroke=\"#000000\" d=\"M88.6797,-21.3567C86.6847,-21.5785 84.6607,-21.8034 82.6264,-22.0295\"/>\n",
       "<polygon fill=\"#000000\" stroke=\"#000000\" points=\"82.0081,-18.5766 72.456,-23.1598 82.7814,-25.5337 82.0081,-18.5766\"/>\n",
       "</g>\n",
       "</g>\n",
       "</svg>\n",
       "</td></tr></table>"
      ]
     },
     "metadata": {},
     "output_type": "display_data"
    }
   ],
   "source": [
    "display_graphs_side_by_side(ns.dot(engine='dot'), ns.dot())"
   ]
  },
  {
   "cell_type": "markdown",
   "metadata": {},
   "source": [
    "### Fit the network"
   ]
  },
  {
   "cell_type": "code",
   "execution_count": 29,
   "metadata": {},
   "outputs": [
    {
     "name": "stdout",
     "output_type": "stream",
     "text": [
      "\n",
      "  Bayesian network parameters\n",
      "\n",
      "  Parameters of node ALG (multinomial distribution)\n",
      "\n",
      "Conditional probability table:\n",
      " \n",
      ", , STAT = (9,25.5]\n",
      "\n",
      "             ANL\n",
      "ALG            (9,39.3] (39.3,62.3] (62.3,70]\n",
      "  (15,48.8]   1.0000000   0.5000000          \n",
      "  (48.8,58.7] 0.0000000   0.5000000          \n",
      "  (58.7,80]   0.0000000   0.0000000          \n",
      "\n",
      ", , STAT = (25.5,53.7]\n",
      "\n",
      "             ANL\n",
      "ALG            (9,39.3] (39.3,62.3] (62.3,70]\n",
      "  (15,48.8]   0.7692308   0.2250000          \n",
      "  (48.8,58.7] 0.2307692   0.6250000          \n",
      "  (58.7,80]   0.0000000   0.1500000          \n",
      "\n",
      ", , STAT = (53.7,81]\n",
      "\n",
      "             ANL\n",
      "ALG            (9,39.3] (39.3,62.3] (62.3,70]\n",
      "  (15,48.8]   1.0000000   0.1111111 0.0000000\n",
      "  (48.8,58.7] 0.0000000   0.4444444 0.0000000\n",
      "  (58.7,80]   0.0000000   0.4444444 1.0000000\n",
      "\n",
      "\n",
      "  Parameters of node ANL (multinomial distribution)\n",
      "\n",
      "Conditional probability table:\n",
      " \n",
      "             STAT\n",
      "ANL            (9,25.5] (25.5,53.7] (53.7,81]\n",
      "  (9,39.3]    0.7333333   0.2452830 0.0500000\n",
      "  (39.3,62.3] 0.2666667   0.7547170 0.4500000\n",
      "  (62.3,70]   0.0000000   0.0000000 0.5000000\n",
      "\n",
      "  Parameters of node MECH (multinomial distribution)\n",
      "\n",
      "Conditional probability table:\n",
      " \n",
      ", , VECT = (9,42.2]\n",
      "\n",
      "           ALG\n",
      "MECH         (15,48.8] (48.8,58.7]  (58.7,80]\n",
      "  (0,35.8]  0.77777778  0.50000000 0.00000000\n",
      "  (35.8,49] 0.22222222  0.33333333 1.00000000\n",
      "  (49,77]   0.00000000  0.16666667 0.00000000\n",
      "\n",
      ", , VECT = (42.2,60.7]\n",
      "\n",
      "           ALG\n",
      "MECH         (15,48.8] (48.8,58.7]  (58.7,80]\n",
      "  (0,35.8]  0.33333333  0.33333333 0.57142857\n",
      "  (35.8,49] 0.40000000  0.57142857 0.14285714\n",
      "  (49,77]   0.26666667  0.09523810 0.28571429\n",
      "\n",
      ", , VECT = (60.7,82]\n",
      "\n",
      "           ALG\n",
      "MECH         (15,48.8] (48.8,58.7]  (58.7,80]\n",
      "  (0,35.8]  0.00000000  0.14285714 0.00000000\n",
      "  (35.8,49] 1.00000000  0.57142857 0.08333333\n",
      "  (49,77]   0.00000000  0.28571429 0.91666667\n",
      "\n",
      "\n",
      "  Parameters of node STAT (multinomial distribution)\n",
      "\n",
      "Conditional probability table:\n",
      "    (9,25.5] (25.5,53.7]   (53.7,81] \n",
      "  0.1704545   0.6022727   0.2272727 \n",
      "\n",
      "  Parameters of node VECT (multinomial distribution)\n",
      "\n",
      "Conditional probability table:\n",
      " \n",
      "             ALG\n",
      "VECT           (15,48.8] (48.8,58.7]  (58.7,80]\n",
      "  (9,42.2]    0.52941176  0.17647059 0.05000000\n",
      "  (42.2,60.7] 0.44117647  0.61764706 0.35000000\n",
      "  (60.7,82]   0.02941176  0.20588235 0.60000000\n",
      "\n",
      "\n"
     ]
    }
   ],
   "source": [
    "net_dmarks = pybnl.bn.NetAndDataDiscreteBayesNetwork(dmarks, rnet=ns.rnet)\n",
    "net_dmarks.fit()\n",
    "net_dmarks_net_and_data = net_dmarks\n",
    "print(net_dmarks.rfit)"
   ]
  },
  {
   "cell_type": "markdown",
   "metadata": {},
   "source": [
    "## ConstraintBasedNetFromDataDiscreteBayesNetwork"
   ]
  },
  {
   "cell_type": "code",
   "execution_count": 30,
   "metadata": {},
   "outputs": [
    {
     "data": {
      "image/svg+xml": [
       "<?xml version=\"1.0\" encoding=\"UTF-8\" standalone=\"no\"?>\n",
       "<!DOCTYPE svg PUBLIC \"-//W3C//DTD SVG 1.1//EN\"\n",
       " \"http://www.w3.org/Graphics/SVG/1.1/DTD/svg11.dtd\">\n",
       "<!-- Generated by graphviz version 2.40.1 (20161225.0304)\n",
       " -->\n",
       "<!-- Title: %3 Pages: 1 -->\n",
       "<svg width=\"147pt\" height=\"242pt\"\n",
       " viewBox=\"0.00 0.00 147.00 242.00\" xmlns=\"http://www.w3.org/2000/svg\" xmlns:xlink=\"http://www.w3.org/1999/xlink\">\n",
       "<g id=\"graph0\" class=\"graph\" transform=\"scale(1 1) rotate(0) translate(4 238)\">\n",
       "<title>%3</title>\n",
       "<polygon fill=\"#ffffff\" stroke=\"transparent\" points=\"-4,4 -4,-238 143,-238 143,4 -4,4\"/>\n",
       "<!-- MECH -->\n",
       "<g id=\"node1\" class=\"node\">\n",
       "<title>MECH</title>\n",
       "<ellipse fill=\"none\" stroke=\"#000000\" cx=\"86.1005\" cy=\"-17.7713\" rx=\"36.2938\" ry=\"18\"/>\n",
       "<text text-anchor=\"middle\" x=\"86.1005\" y=\"-14.0713\" font-family=\"Times,serif\" font-size=\"14.00\" fill=\"#000000\">MECH</text>\n",
       "</g>\n",
       "<!-- VECT -->\n",
       "<g id=\"node2\" class=\"node\">\n",
       "<title>VECT</title>\n",
       "<ellipse fill=\"none\" stroke=\"#000000\" cx=\"105.1895\" cy=\"-68.148\" rx=\"33.5952\" ry=\"18\"/>\n",
       "<text text-anchor=\"middle\" x=\"105.1895\" y=\"-64.448\" font-family=\"Times,serif\" font-size=\"14.00\" fill=\"#000000\">VECT</text>\n",
       "</g>\n",
       "<!-- VECT&#45;&gt;MECH -->\n",
       "<g id=\"edge4\" class=\"edge\">\n",
       "<title>VECT&#45;&gt;MECH</title>\n",
       "<path fill=\"none\" stroke=\"#000000\" d=\"M98.4057,-50.2453C96.6054,-45.4941 94.6617,-40.3646 92.8625,-35.6165\"/>\n",
       "</g>\n",
       "<!-- ALG -->\n",
       "<g id=\"node3\" class=\"node\">\n",
       "<title>ALG</title>\n",
       "<ellipse fill=\"none\" stroke=\"#000000\" cx=\"30.6869\" cy=\"-106.849\" rx=\"28.6953\" ry=\"18\"/>\n",
       "<text text-anchor=\"middle\" x=\"30.6869\" y=\"-103.149\" font-family=\"Times,serif\" font-size=\"14.00\" fill=\"#000000\">ALG</text>\n",
       "</g>\n",
       "<!-- ALG&#45;&gt;VECT -->\n",
       "<g id=\"edge1\" class=\"edge\">\n",
       "<title>ALG&#45;&gt;VECT</title>\n",
       "<path fill=\"none\" stroke=\"#000000\" d=\"M53.0402,-95.2374C61.784,-90.6954 71.8389,-85.4723 80.772,-80.8319\"/>\n",
       "</g>\n",
       "<!-- ANL -->\n",
       "<g id=\"node4\" class=\"node\">\n",
       "<title>ANL</title>\n",
       "<ellipse fill=\"none\" stroke=\"#000000\" cx=\"28.8672\" cy=\"-155.6789\" rx=\"28.6953\" ry=\"18\"/>\n",
       "<text text-anchor=\"middle\" x=\"28.8672\" y=\"-151.9789\" font-family=\"Times,serif\" font-size=\"14.00\" fill=\"#000000\">ANL</text>\n",
       "</g>\n",
       "<!-- ANL&#45;&gt;ALG -->\n",
       "<g id=\"edge3\" class=\"edge\">\n",
       "<title>ANL&#45;&gt;ALG</title>\n",
       "<path fill=\"none\" stroke=\"#000000\" d=\"M29.5448,-137.4964C29.6984,-133.3749 29.8615,-128.9994 30.0148,-124.884\"/>\n",
       "</g>\n",
       "<!-- STAT -->\n",
       "<g id=\"node5\" class=\"node\">\n",
       "<title>STAT</title>\n",
       "<ellipse fill=\"none\" stroke=\"#000000\" cx=\"81.8854\" cy=\"-215.6752\" rx=\"32.4942\" ry=\"18\"/>\n",
       "<text text-anchor=\"middle\" x=\"81.8854\" y=\"-211.9752\" font-family=\"Times,serif\" font-size=\"14.00\" fill=\"#000000\">STAT</text>\n",
       "</g>\n",
       "<!-- STAT&#45;&gt;ANL -->\n",
       "<g id=\"edge2\" class=\"edge\">\n",
       "<title>STAT&#45;&gt;ANL</title>\n",
       "<path fill=\"none\" stroke=\"#000000\" d=\"M67.398,-199.2809C59.7944,-190.6766 50.5167,-180.1778 42.9707,-171.6386\"/>\n",
       "</g>\n",
       "</g>\n",
       "</svg>\n"
      ],
      "text/plain": [
       "<graphviz.dot.Digraph at 0x7f3e168d61d0>"
      ]
     },
     "execution_count": 30,
     "metadata": {},
     "output_type": "execute_result"
    }
   ],
   "source": [
    "net_dmarks = pybnl.bn.ConstraintBasedNetFromDataDiscreteBayesNetwork(dmarks)\n",
    "net_dmarks.fit()\n",
    "net_dmarks_cb = net_dmarks\n",
    "net_dmarks.structure().cpdag().dot()"
   ]
  },
  {
   "cell_type": "markdown",
   "metadata": {},
   "source": [
    "## ScoreBasedNetFromDataDiscreteBayesNetwork"
   ]
  },
  {
   "cell_type": "code",
   "execution_count": 31,
   "metadata": {},
   "outputs": [
    {
     "data": {
      "image/svg+xml": [
       "<?xml version=\"1.0\" encoding=\"UTF-8\" standalone=\"no\"?>\n",
       "<!DOCTYPE svg PUBLIC \"-//W3C//DTD SVG 1.1//EN\"\n",
       " \"http://www.w3.org/Graphics/SVG/1.1/DTD/svg11.dtd\">\n",
       "<!-- Generated by graphviz version 2.40.1 (20161225.0304)\n",
       " -->\n",
       "<!-- Title: %3 Pages: 1 -->\n",
       "<svg width=\"147pt\" height=\"242pt\"\n",
       " viewBox=\"0.00 0.00 147.00 242.00\" xmlns=\"http://www.w3.org/2000/svg\" xmlns:xlink=\"http://www.w3.org/1999/xlink\">\n",
       "<g id=\"graph0\" class=\"graph\" transform=\"scale(1 1) rotate(0) translate(4 238)\">\n",
       "<title>%3</title>\n",
       "<polygon fill=\"#ffffff\" stroke=\"transparent\" points=\"-4,4 -4,-238 143,-238 143,4 -4,4\"/>\n",
       "<!-- MECH -->\n",
       "<g id=\"node1\" class=\"node\">\n",
       "<title>MECH</title>\n",
       "<ellipse fill=\"none\" stroke=\"#000000\" cx=\"86.1005\" cy=\"-17.7713\" rx=\"36.2938\" ry=\"18\"/>\n",
       "<text text-anchor=\"middle\" x=\"86.1005\" y=\"-14.0713\" font-family=\"Times,serif\" font-size=\"14.00\" fill=\"#000000\">MECH</text>\n",
       "</g>\n",
       "<!-- VECT -->\n",
       "<g id=\"node2\" class=\"node\">\n",
       "<title>VECT</title>\n",
       "<ellipse fill=\"none\" stroke=\"#000000\" cx=\"105.1895\" cy=\"-68.148\" rx=\"33.5952\" ry=\"18\"/>\n",
       "<text text-anchor=\"middle\" x=\"105.1895\" y=\"-64.448\" font-family=\"Times,serif\" font-size=\"14.00\" fill=\"#000000\">VECT</text>\n",
       "</g>\n",
       "<!-- VECT&#45;&gt;MECH -->\n",
       "<g id=\"edge4\" class=\"edge\">\n",
       "<title>VECT&#45;&gt;MECH</title>\n",
       "<path fill=\"none\" stroke=\"#000000\" d=\"M98.4057,-50.2453C96.6054,-45.4941 94.6617,-40.3646 92.8625,-35.6165\"/>\n",
       "</g>\n",
       "<!-- ALG -->\n",
       "<g id=\"node3\" class=\"node\">\n",
       "<title>ALG</title>\n",
       "<ellipse fill=\"none\" stroke=\"#000000\" cx=\"30.6869\" cy=\"-106.849\" rx=\"28.6953\" ry=\"18\"/>\n",
       "<text text-anchor=\"middle\" x=\"30.6869\" y=\"-103.149\" font-family=\"Times,serif\" font-size=\"14.00\" fill=\"#000000\">ALG</text>\n",
       "</g>\n",
       "<!-- ALG&#45;&gt;VECT -->\n",
       "<g id=\"edge1\" class=\"edge\">\n",
       "<title>ALG&#45;&gt;VECT</title>\n",
       "<path fill=\"none\" stroke=\"#000000\" d=\"M53.0402,-95.2374C61.784,-90.6954 71.8389,-85.4723 80.772,-80.8319\"/>\n",
       "</g>\n",
       "<!-- ANL -->\n",
       "<g id=\"node4\" class=\"node\">\n",
       "<title>ANL</title>\n",
       "<ellipse fill=\"none\" stroke=\"#000000\" cx=\"28.8672\" cy=\"-155.6789\" rx=\"28.6953\" ry=\"18\"/>\n",
       "<text text-anchor=\"middle\" x=\"28.8672\" y=\"-151.9789\" font-family=\"Times,serif\" font-size=\"14.00\" fill=\"#000000\">ANL</text>\n",
       "</g>\n",
       "<!-- ANL&#45;&gt;ALG -->\n",
       "<g id=\"edge3\" class=\"edge\">\n",
       "<title>ANL&#45;&gt;ALG</title>\n",
       "<path fill=\"none\" stroke=\"#000000\" d=\"M29.5448,-137.4964C29.6984,-133.3749 29.8615,-128.9994 30.0148,-124.884\"/>\n",
       "</g>\n",
       "<!-- STAT -->\n",
       "<g id=\"node5\" class=\"node\">\n",
       "<title>STAT</title>\n",
       "<ellipse fill=\"none\" stroke=\"#000000\" cx=\"81.8854\" cy=\"-215.6752\" rx=\"32.4942\" ry=\"18\"/>\n",
       "<text text-anchor=\"middle\" x=\"81.8854\" y=\"-211.9752\" font-family=\"Times,serif\" font-size=\"14.00\" fill=\"#000000\">STAT</text>\n",
       "</g>\n",
       "<!-- STAT&#45;&gt;ANL -->\n",
       "<g id=\"edge2\" class=\"edge\">\n",
       "<title>STAT&#45;&gt;ANL</title>\n",
       "<path fill=\"none\" stroke=\"#000000\" d=\"M67.398,-199.2809C59.7944,-190.6766 50.5167,-180.1778 42.9707,-171.6386\"/>\n",
       "</g>\n",
       "</g>\n",
       "</svg>\n"
      ],
      "text/plain": [
       "<graphviz.dot.Digraph at 0x7f3e16953320>"
      ]
     },
     "execution_count": 31,
     "metadata": {},
     "output_type": "execute_result"
    }
   ],
   "source": [
    "net_dmarks = pybnl.bn.ScoreBasedNetFromDataDiscreteBayesNetwork(dmarks)\n",
    "net_dmarks.fit()\n",
    "net_dmarks_sb = net_dmarks\n",
    "net_dmarks.structure().cpdag().dot()"
   ]
  },
  {
   "cell_type": "markdown",
   "metadata": {},
   "source": [
    "## HybridScoreAndConstainedBasedNetFromDataDiscreteBayesNetwork"
   ]
  },
  {
   "cell_type": "markdown",
   "metadata": {},
   "source": [
    "### mmhc"
   ]
  },
  {
   "cell_type": "code",
   "execution_count": 32,
   "metadata": {},
   "outputs": [
    {
     "data": {
      "image/svg+xml": [
       "<?xml version=\"1.0\" encoding=\"UTF-8\" standalone=\"no\"?>\n",
       "<!DOCTYPE svg PUBLIC \"-//W3C//DTD SVG 1.1//EN\"\n",
       " \"http://www.w3.org/Graphics/SVG/1.1/DTD/svg11.dtd\">\n",
       "<!-- Generated by graphviz version 2.40.1 (20161225.0304)\n",
       " -->\n",
       "<!-- Title: %3 Pages: 1 -->\n",
       "<svg width=\"234pt\" height=\"132pt\"\n",
       " viewBox=\"0.00 0.00 234.00 132.00\" xmlns=\"http://www.w3.org/2000/svg\" xmlns:xlink=\"http://www.w3.org/1999/xlink\">\n",
       "<g id=\"graph0\" class=\"graph\" transform=\"scale(1 1) rotate(0) translate(4 128)\">\n",
       "<title>%3</title>\n",
       "<polygon fill=\"#ffffff\" stroke=\"transparent\" points=\"-4,4 -4,-128 230,-128 230,4 -4,4\"/>\n",
       "<!-- MECH -->\n",
       "<g id=\"node1\" class=\"node\">\n",
       "<title>MECH</title>\n",
       "<ellipse fill=\"none\" stroke=\"#000000\" cx=\"36.4415\" cy=\"-30.6736\" rx=\"36.2938\" ry=\"18\"/>\n",
       "<text text-anchor=\"middle\" x=\"36.4415\" y=\"-26.9736\" font-family=\"Times,serif\" font-size=\"14.00\" fill=\"#000000\">MECH</text>\n",
       "</g>\n",
       "<!-- VECT -->\n",
       "<g id=\"node2\" class=\"node\">\n",
       "<title>VECT</title>\n",
       "<ellipse fill=\"none\" stroke=\"#000000\" cx=\"119.827\" cy=\"-18.2153\" rx=\"33.5952\" ry=\"18\"/>\n",
       "<text text-anchor=\"middle\" x=\"119.827\" y=\"-14.5153\" font-family=\"Times,serif\" font-size=\"14.00\" fill=\"#000000\">VECT</text>\n",
       "</g>\n",
       "<!-- VECT&#45;&gt;MECH -->\n",
       "<g id=\"edge2\" class=\"edge\">\n",
       "<title>VECT&#45;&gt;MECH</title>\n",
       "<path fill=\"none\" stroke=\"#000000\" d=\"M86.8709,-23.1392C81.7723,-23.9009 76.4912,-24.6899 71.3515,-25.4578\"/>\n",
       "</g>\n",
       "<!-- ALG -->\n",
       "<g id=\"node3\" class=\"node\">\n",
       "<title>ALG</title>\n",
       "<ellipse fill=\"none\" stroke=\"#000000\" cx=\"132.4144\" cy=\"-75.333\" rx=\"28.6953\" ry=\"18\"/>\n",
       "<text text-anchor=\"middle\" x=\"132.4144\" y=\"-71.633\" font-family=\"Times,serif\" font-size=\"14.00\" fill=\"#000000\">ALG</text>\n",
       "</g>\n",
       "<!-- ANL -->\n",
       "<g id=\"node4\" class=\"node\">\n",
       "<title>ANL</title>\n",
       "<ellipse fill=\"none\" stroke=\"#000000\" cx=\"197.8542\" cy=\"-65.5559\" rx=\"28.6953\" ry=\"18\"/>\n",
       "<text text-anchor=\"middle\" x=\"197.8542\" y=\"-61.8559\" font-family=\"Times,serif\" font-size=\"14.00\" fill=\"#000000\">ANL</text>\n",
       "</g>\n",
       "<!-- ANL&#45;&gt;ALG -->\n",
       "<g id=\"edge1\" class=\"edge\">\n",
       "<title>ANL&#45;&gt;ALG</title>\n",
       "<path fill=\"none\" stroke=\"#000000\" d=\"M169.722,-69.759C166.6736,-70.2145 163.5709,-70.678 160.5228,-71.1334\"/>\n",
       "</g>\n",
       "<!-- STAT -->\n",
       "<g id=\"node5\" class=\"node\">\n",
       "<title>STAT</title>\n",
       "<ellipse fill=\"none\" stroke=\"#000000\" cx=\"56.2381\" cy=\"-105.6409\" rx=\"32.4942\" ry=\"18\"/>\n",
       "<text text-anchor=\"middle\" x=\"56.2381\" y=\"-101.9409\" font-family=\"Times,serif\" font-size=\"14.00\" fill=\"#000000\">STAT</text>\n",
       "</g>\n",
       "</g>\n",
       "</svg>\n"
      ],
      "text/plain": [
       "<graphviz.dot.Digraph at 0x7f3e168d4e48>"
      ]
     },
     "execution_count": 32,
     "metadata": {},
     "output_type": "execute_result"
    }
   ],
   "source": [
    "net_dmarks = pybnl.bn.HybridScoreAndConstainedBasedNetFromDataDiscreteBayesNetwork(dmarks)\n",
    "net_dmarks.fit()\n",
    "net_dmarks_hyb_mmhc = net_dmarks\n",
    "net_dmarks.structure().cpdag().dot()"
   ]
  },
  {
   "cell_type": "markdown",
   "metadata": {},
   "source": [
    "### rxmax2_sihitonpc_tabu"
   ]
  },
  {
   "cell_type": "code",
   "execution_count": 33,
   "metadata": {},
   "outputs": [
    {
     "data": {
      "image/svg+xml": [
       "<?xml version=\"1.0\" encoding=\"UTF-8\" standalone=\"no\"?>\n",
       "<!DOCTYPE svg PUBLIC \"-//W3C//DTD SVG 1.1//EN\"\n",
       " \"http://www.w3.org/Graphics/SVG/1.1/DTD/svg11.dtd\">\n",
       "<!-- Generated by graphviz version 2.40.1 (20161225.0304)\n",
       " -->\n",
       "<!-- Title: %3 Pages: 1 -->\n",
       "<svg width=\"234pt\" height=\"132pt\"\n",
       " viewBox=\"0.00 0.00 234.00 132.00\" xmlns=\"http://www.w3.org/2000/svg\" xmlns:xlink=\"http://www.w3.org/1999/xlink\">\n",
       "<g id=\"graph0\" class=\"graph\" transform=\"scale(1 1) rotate(0) translate(4 128)\">\n",
       "<title>%3</title>\n",
       "<polygon fill=\"#ffffff\" stroke=\"transparent\" points=\"-4,4 -4,-128 230,-128 230,4 -4,4\"/>\n",
       "<!-- MECH -->\n",
       "<g id=\"node1\" class=\"node\">\n",
       "<title>MECH</title>\n",
       "<ellipse fill=\"none\" stroke=\"#000000\" cx=\"36.4415\" cy=\"-30.6736\" rx=\"36.2938\" ry=\"18\"/>\n",
       "<text text-anchor=\"middle\" x=\"36.4415\" y=\"-26.9736\" font-family=\"Times,serif\" font-size=\"14.00\" fill=\"#000000\">MECH</text>\n",
       "</g>\n",
       "<!-- VECT -->\n",
       "<g id=\"node2\" class=\"node\">\n",
       "<title>VECT</title>\n",
       "<ellipse fill=\"none\" stroke=\"#000000\" cx=\"119.827\" cy=\"-18.2153\" rx=\"33.5952\" ry=\"18\"/>\n",
       "<text text-anchor=\"middle\" x=\"119.827\" y=\"-14.5153\" font-family=\"Times,serif\" font-size=\"14.00\" fill=\"#000000\">VECT</text>\n",
       "</g>\n",
       "<!-- VECT&#45;&gt;MECH -->\n",
       "<g id=\"edge2\" class=\"edge\">\n",
       "<title>VECT&#45;&gt;MECH</title>\n",
       "<path fill=\"none\" stroke=\"#000000\" d=\"M86.8709,-23.1392C81.7723,-23.9009 76.4912,-24.6899 71.3515,-25.4578\"/>\n",
       "</g>\n",
       "<!-- ALG -->\n",
       "<g id=\"node3\" class=\"node\">\n",
       "<title>ALG</title>\n",
       "<ellipse fill=\"none\" stroke=\"#000000\" cx=\"132.4144\" cy=\"-75.333\" rx=\"28.6953\" ry=\"18\"/>\n",
       "<text text-anchor=\"middle\" x=\"132.4144\" y=\"-71.633\" font-family=\"Times,serif\" font-size=\"14.00\" fill=\"#000000\">ALG</text>\n",
       "</g>\n",
       "<!-- ANL -->\n",
       "<g id=\"node4\" class=\"node\">\n",
       "<title>ANL</title>\n",
       "<ellipse fill=\"none\" stroke=\"#000000\" cx=\"197.8542\" cy=\"-65.5559\" rx=\"28.6953\" ry=\"18\"/>\n",
       "<text text-anchor=\"middle\" x=\"197.8542\" y=\"-61.8559\" font-family=\"Times,serif\" font-size=\"14.00\" fill=\"#000000\">ANL</text>\n",
       "</g>\n",
       "<!-- ANL&#45;&gt;ALG -->\n",
       "<g id=\"edge1\" class=\"edge\">\n",
       "<title>ANL&#45;&gt;ALG</title>\n",
       "<path fill=\"none\" stroke=\"#000000\" d=\"M169.722,-69.759C166.6736,-70.2145 163.5709,-70.678 160.5228,-71.1334\"/>\n",
       "</g>\n",
       "<!-- STAT -->\n",
       "<g id=\"node5\" class=\"node\">\n",
       "<title>STAT</title>\n",
       "<ellipse fill=\"none\" stroke=\"#000000\" cx=\"56.2381\" cy=\"-105.6409\" rx=\"32.4942\" ry=\"18\"/>\n",
       "<text text-anchor=\"middle\" x=\"56.2381\" y=\"-101.9409\" font-family=\"Times,serif\" font-size=\"14.00\" fill=\"#000000\">STAT</text>\n",
       "</g>\n",
       "</g>\n",
       "</svg>\n"
      ],
      "text/plain": [
       "<graphviz.dot.Digraph at 0x7f3e1694cda0>"
      ]
     },
     "execution_count": 33,
     "metadata": {},
     "output_type": "execute_result"
    }
   ],
   "source": [
    "net_dmarks = pybnl.bn.HybridScoreAndConstainedBasedNetFromDataDiscreteBayesNetwork(dmarks, algorithm='rxmax2_sihitonpc_tabu')\n",
    "net_dmarks.fit()\n",
    "net_dmarks_hyb_rsmax = net_dmarks\n",
    "net_dmarks.structure().cpdag().dot()"
   ]
  },
  {
   "cell_type": "markdown",
   "metadata": {},
   "source": [
    "## Comparison"
   ]
  },
  {
   "cell_type": "code",
   "execution_count": 34,
   "metadata": {},
   "outputs": [
    {
     "data": {
      "text/html": [
       "<table style=\"display:inline\" border=\"1\" class=\"dataframe\">\n",
       "  <thead>\n",
       "    <tr style=\"text-align: right;\">\n",
       "      <th></th>\n",
       "      <th>algorithm</th>\n",
       "      <th>score</th>\n",
       "    </tr>\n",
       "  </thead>\n",
       "  <tbody>\n",
       "    <tr>\n",
       "      <th>0</th>\n",
       "      <td>ConstraintBased</td>\n",
       "      <td>-411.497387</td>\n",
       "    </tr>\n",
       "    <tr>\n",
       "      <th>1</th>\n",
       "      <td>ScoreBased</td>\n",
       "      <td>-411.497387</td>\n",
       "    </tr>\n",
       "    <tr>\n",
       "      <th>2</th>\n",
       "      <td>mmhc</td>\n",
       "      <td>-434.906936</td>\n",
       "    </tr>\n",
       "    <tr>\n",
       "      <th>3</th>\n",
       "      <td>rsmax</td>\n",
       "      <td>-434.906936</td>\n",
       "    </tr>\n",
       "  </tbody>\n",
       "</table style=\"display:inline\"><table style=\"display:inline\" border=\"1\" class=\"dataframe\">\n",
       "  <thead>\n",
       "    <tr style=\"text-align: right;\">\n",
       "      <th></th>\n",
       "      <th>algorithm</th>\n",
       "      <th>score</th>\n",
       "    </tr>\n",
       "  </thead>\n",
       "  <tbody>\n",
       "    <tr>\n",
       "      <th>0</th>\n",
       "      <td>ConstraintBased</td>\n",
       "      <td>-353.292008</td>\n",
       "    </tr>\n",
       "    <tr>\n",
       "      <th>1</th>\n",
       "      <td>ScoreBased</td>\n",
       "      <td>-353.292008</td>\n",
       "    </tr>\n",
       "    <tr>\n",
       "      <th>2</th>\n",
       "      <td>mmhc</td>\n",
       "      <td>-394.610904</td>\n",
       "    </tr>\n",
       "    <tr>\n",
       "      <th>3</th>\n",
       "      <td>rsmax</td>\n",
       "      <td>-394.610904</td>\n",
       "    </tr>\n",
       "  </tbody>\n",
       "</table style=\"display:inline\">"
      ]
     },
     "metadata": {},
     "output_type": "display_data"
    }
   ],
   "source": [
    "def score(type='bic'):\n",
    "    cdf = pd.DataFrame(columns=['algorithm', 'score'])\n",
    "    cdf.loc[len(cdf)] = ['ConstraintBased', net_dmarks_cb.score(type=type)]\n",
    "    cdf.loc[len(cdf)] = ['ScoreBased', net_dmarks_sb.score(type=type)]\n",
    "    cdf.loc[len(cdf)] = ['mmhc', net_dmarks_hyb_mmhc.score(type=type)]\n",
    "    cdf.loc[len(cdf)] = ['rsmax', net_dmarks_hyb_rsmax.score(type=type)]\n",
    "    return cdf\n",
    "\n",
    "display_side_by_side(score(), score(type='loglik'))"
   ]
  },
  {
   "cell_type": "code",
   "execution_count": 35,
   "metadata": {},
   "outputs": [
    {
     "data": {
      "text/plain": [
       "23.332540436607594"
      ]
     },
     "execution_count": 35,
     "metadata": {},
     "output_type": "execute_result"
    }
   ],
   "source": [
    "net_dmarks_cb.structure().bf(net_dmarks_hyb_mmhc.structure(), dmarks)"
   ]
  },
  {
   "cell_type": "code",
   "execution_count": 36,
   "metadata": {},
   "outputs": [
    {
     "data": {
      "text/plain": [
       "23.332540436607594"
      ]
     },
     "execution_count": 36,
     "metadata": {},
     "output_type": "execute_result"
    }
   ],
   "source": [
    "net_dmarks_cb.bf(net_dmarks_hyb_mmhc, dmarks)"
   ]
  },
  {
   "cell_type": "code",
   "execution_count": 37,
   "metadata": {},
   "outputs": [
    {
     "data": {
      "text/plain": [
       "23.332540436607594"
      ]
     },
     "execution_count": 37,
     "metadata": {},
     "output_type": "execute_result"
    }
   ],
   "source": [
    "net_dmarks_cb.bf(net_dmarks_hyb_mmhc)"
   ]
  },
  {
   "cell_type": "markdown",
   "metadata": {},
   "source": [
    "## sklearn pipeline"
   ]
  },
  {
   "cell_type": "code",
   "execution_count": 38,
   "metadata": {},
   "outputs": [],
   "source": [
    "# import warnings\n",
    "# warnings.simplefilter('error', FutureWarning)"
   ]
  },
  {
   "cell_type": "code",
   "execution_count": 39,
   "metadata": {},
   "outputs": [
    {
     "data": {
      "text/plain": [
       "Pipeline(memory=None,\n",
       "         steps=[('hartemink', HarteminkBinTransformer(breaks=3, ibreaks=18)),\n",
       "                ('score',\n",
       "                 ScoreBasedNetFromDataDiscreteBayesNetwork(algorithm='hc',\n",
       "                                                           ldf=None,\n",
       "                                                           predict_var=None,\n",
       "                                                           whitelist=None))],\n",
       "         verbose=False)"
      ]
     },
     "execution_count": 39,
     "metadata": {},
     "output_type": "execute_result"
    }
   ],
   "source": [
    "pl = sklearn.pipeline.Pipeline(\n",
    "    steps=[\n",
    "        ('hartemink', pybnl.bn.HarteminkBinTransformer(3,ibreaks=18)),\n",
    "        ('score', pybnl.bn.ScoreBasedNetFromDataDiscreteBayesNetwork()),\n",
    "          ]\n",
    ")\n",
    "pl.set_params(hartemink__breaks=3).fit(pd_marks, None)"
   ]
  },
  {
   "cell_type": "code",
   "execution_count": 40,
   "metadata": {},
   "outputs": [
    {
     "data": {
      "text/plain": [
       "-411.49738682714093"
      ]
     },
     "execution_count": 40,
     "metadata": {},
     "output_type": "execute_result"
    }
   ],
   "source": [
    "pl.score(dmarks)"
   ]
  },
  {
   "cell_type": "code",
   "execution_count": 41,
   "metadata": {},
   "outputs": [
    {
     "data": {
      "image/svg+xml": [
       "<?xml version=\"1.0\" encoding=\"UTF-8\" standalone=\"no\"?>\n",
       "<!DOCTYPE svg PUBLIC \"-//W3C//DTD SVG 1.1//EN\"\n",
       " \"http://www.w3.org/Graphics/SVG/1.1/DTD/svg11.dtd\">\n",
       "<!-- Generated by graphviz version 2.40.1 (20161225.0304)\n",
       " -->\n",
       "<!-- Title: %3 Pages: 1 -->\n",
       "<svg width=\"147pt\" height=\"242pt\"\n",
       " viewBox=\"0.00 0.00 147.00 242.00\" xmlns=\"http://www.w3.org/2000/svg\" xmlns:xlink=\"http://www.w3.org/1999/xlink\">\n",
       "<g id=\"graph0\" class=\"graph\" transform=\"scale(1 1) rotate(0) translate(4 238)\">\n",
       "<title>%3</title>\n",
       "<polygon fill=\"#ffffff\" stroke=\"transparent\" points=\"-4,4 -4,-238 143,-238 143,4 -4,4\"/>\n",
       "<!-- MECH -->\n",
       "<g id=\"node1\" class=\"node\">\n",
       "<title>MECH</title>\n",
       "<ellipse fill=\"none\" stroke=\"#000000\" cx=\"86.1005\" cy=\"-17.7713\" rx=\"36.2938\" ry=\"18\"/>\n",
       "<text text-anchor=\"middle\" x=\"86.1005\" y=\"-14.0713\" font-family=\"Times,serif\" font-size=\"14.00\" fill=\"#000000\">MECH</text>\n",
       "</g>\n",
       "<!-- VECT -->\n",
       "<g id=\"node2\" class=\"node\">\n",
       "<title>VECT</title>\n",
       "<ellipse fill=\"none\" stroke=\"#000000\" cx=\"105.1895\" cy=\"-68.148\" rx=\"33.5952\" ry=\"18\"/>\n",
       "<text text-anchor=\"middle\" x=\"105.1895\" y=\"-64.448\" font-family=\"Times,serif\" font-size=\"14.00\" fill=\"#000000\">VECT</text>\n",
       "</g>\n",
       "<!-- VECT&#45;&gt;MECH -->\n",
       "<g id=\"edge1\" class=\"edge\">\n",
       "<title>VECT&#45;&gt;MECH</title>\n",
       "<path fill=\"none\" stroke=\"#000000\" d=\"M98.4057,-50.2453C97.7868,-48.612 97.151,-46.9341 96.51,-45.2424\"/>\n",
       "<polygon fill=\"#000000\" stroke=\"#000000\" points=\"99.6789,-43.7274 92.8625,-35.6165 93.133,-46.2079 99.6789,-43.7274\"/>\n",
       "</g>\n",
       "<!-- ALG -->\n",
       "<g id=\"node3\" class=\"node\">\n",
       "<title>ALG</title>\n",
       "<ellipse fill=\"none\" stroke=\"#000000\" cx=\"30.6869\" cy=\"-106.849\" rx=\"28.6953\" ry=\"18\"/>\n",
       "<text text-anchor=\"middle\" x=\"30.6869\" y=\"-103.149\" font-family=\"Times,serif\" font-size=\"14.00\" fill=\"#000000\">ALG</text>\n",
       "</g>\n",
       "<!-- ALG&#45;&gt;VECT -->\n",
       "<g id=\"edge2\" class=\"edge\">\n",
       "<title>ALG&#45;&gt;VECT</title>\n",
       "<path fill=\"none\" stroke=\"#000000\" d=\"M53.0402,-95.2374C58.9149,-92.1857 65.3815,-88.8266 71.7021,-85.5433\"/>\n",
       "<polygon fill=\"#000000\" stroke=\"#000000\" points=\"73.5113,-88.5476 80.772,-80.8319 70.2844,-82.3357 73.5113,-88.5476\"/>\n",
       "</g>\n",
       "<!-- ANL -->\n",
       "<g id=\"node4\" class=\"node\">\n",
       "<title>ANL</title>\n",
       "<ellipse fill=\"none\" stroke=\"#000000\" cx=\"28.8672\" cy=\"-155.6789\" rx=\"28.6953\" ry=\"18\"/>\n",
       "<text text-anchor=\"middle\" x=\"28.8672\" y=\"-151.9789\" font-family=\"Times,serif\" font-size=\"14.00\" fill=\"#000000\">ANL</text>\n",
       "</g>\n",
       "<!-- ALG&#45;&gt;ANL -->\n",
       "<g id=\"edge3\" class=\"edge\">\n",
       "<title>ALG&#45;&gt;ANL</title>\n",
       "<path fill=\"none\" stroke=\"#000000\" d=\"M30.0093,-125.0314C29.9806,-125.8042 29.9514,-126.5859 29.9221,-127.3732\"/>\n",
       "<polygon fill=\"#000000\" stroke=\"#000000\" points=\"26.4143,-127.5204 29.5393,-137.6438 33.4094,-127.7811 26.4143,-127.5204\"/>\n",
       "</g>\n",
       "<!-- STAT -->\n",
       "<g id=\"node5\" class=\"node\">\n",
       "<title>STAT</title>\n",
       "<ellipse fill=\"none\" stroke=\"#000000\" cx=\"81.8854\" cy=\"-215.6752\" rx=\"32.4942\" ry=\"18\"/>\n",
       "<text text-anchor=\"middle\" x=\"81.8854\" y=\"-211.9752\" font-family=\"Times,serif\" font-size=\"14.00\" fill=\"#000000\">STAT</text>\n",
       "</g>\n",
       "<!-- ANL&#45;&gt;STAT -->\n",
       "<g id=\"edge4\" class=\"edge\">\n",
       "<title>ANL&#45;&gt;STAT</title>\n",
       "<path fill=\"none\" stroke=\"#000000\" d=\"M42.7971,-171.4422C48.2659,-177.6308 54.6645,-184.8715 60.6827,-191.6818\"/>\n",
       "<polygon fill=\"#000000\" stroke=\"#000000\" points=\"58.2497,-194.2141 67.4943,-199.3899 63.4951,-189.5788 58.2497,-194.2141\"/>\n",
       "</g>\n",
       "</g>\n",
       "</svg>\n"
      ],
      "text/plain": [
       "<graphviz.dot.Digraph at 0x7f3e16875e48>"
      ]
     },
     "execution_count": 41,
     "metadata": {},
     "output_type": "execute_result"
    }
   ],
   "source": [
    "pl.steps[-1][1].structure().dot()"
   ]
  },
  {
   "cell_type": "code",
   "execution_count": 42,
   "metadata": {},
   "outputs": [
    {
     "data": {
      "text/plain": [
       "-682.3887051571114"
      ]
     },
     "execution_count": 42,
     "metadata": {},
     "output_type": "execute_result"
    }
   ],
   "source": [
    "pl.set_params(hartemink__breaks=5).fit(pd_marks, None)\n",
    "pl.score(dmarks)"
   ]
  },
  {
   "cell_type": "code",
   "execution_count": 43,
   "metadata": {},
   "outputs": [
    {
     "data": {
      "image/svg+xml": [
       "<?xml version=\"1.0\" encoding=\"UTF-8\" standalone=\"no\"?>\n",
       "<!DOCTYPE svg PUBLIC \"-//W3C//DTD SVG 1.1//EN\"\n",
       " \"http://www.w3.org/Graphics/SVG/1.1/DTD/svg11.dtd\">\n",
       "<!-- Generated by graphviz version 2.40.1 (20161225.0304)\n",
       " -->\n",
       "<!-- Title: %3 Pages: 1 -->\n",
       "<svg width=\"226pt\" height=\"164pt\"\n",
       " viewBox=\"0.00 0.00 226.00 164.00\" xmlns=\"http://www.w3.org/2000/svg\" xmlns:xlink=\"http://www.w3.org/1999/xlink\">\n",
       "<g id=\"graph0\" class=\"graph\" transform=\"scale(1 1) rotate(0) translate(4 160)\">\n",
       "<title>%3</title>\n",
       "<polygon fill=\"#ffffff\" stroke=\"transparent\" points=\"-4,4 -4,-160 222,-160 222,4 -4,4\"/>\n",
       "<!-- MECH -->\n",
       "<g id=\"node1\" class=\"node\">\n",
       "<title>MECH</title>\n",
       "<ellipse fill=\"none\" stroke=\"#000000\" cx=\"146.2381\" cy=\"-137.6409\" rx=\"36.2938\" ry=\"18\"/>\n",
       "<text text-anchor=\"middle\" x=\"146.2381\" y=\"-133.9409\" font-family=\"Times,serif\" font-size=\"14.00\" fill=\"#000000\">MECH</text>\n",
       "</g>\n",
       "<!-- VECT -->\n",
       "<g id=\"node2\" class=\"node\">\n",
       "<title>VECT</title>\n",
       "<ellipse fill=\"none\" stroke=\"#000000\" cx=\"184.2381\" cy=\"-17.6409\" rx=\"33.5952\" ry=\"18\"/>\n",
       "<text text-anchor=\"middle\" x=\"184.2381\" y=\"-13.9409\" font-family=\"Times,serif\" font-size=\"14.00\" fill=\"#000000\">VECT</text>\n",
       "</g>\n",
       "<!-- ALG -->\n",
       "<g id=\"node3\" class=\"node\">\n",
       "<title>ALG</title>\n",
       "<ellipse fill=\"none\" stroke=\"#000000\" cx=\"28.607\" cy=\"-128.4685\" rx=\"28.6953\" ry=\"18\"/>\n",
       "<text text-anchor=\"middle\" x=\"28.607\" y=\"-124.7685\" font-family=\"Times,serif\" font-size=\"14.00\" fill=\"#000000\">ALG</text>\n",
       "</g>\n",
       "<!-- ANL -->\n",
       "<g id=\"node4\" class=\"node\">\n",
       "<title>ANL</title>\n",
       "<ellipse fill=\"none\" stroke=\"#000000\" cx=\"88.1621\" cy=\"-79.6081\" rx=\"28.6953\" ry=\"18\"/>\n",
       "<text text-anchor=\"middle\" x=\"88.1621\" y=\"-75.9081\" font-family=\"Times,serif\" font-size=\"14.00\" fill=\"#000000\">ANL</text>\n",
       "</g>\n",
       "<!-- ANL&#45;&gt;ALG -->\n",
       "<g id=\"edge1\" class=\"edge\">\n",
       "<title>ANL&#45;&gt;ALG</title>\n",
       "<path fill=\"none\" stroke=\"#000000\" d=\"M70.6157,-94.0035C65.4519,-98.24 59.6941,-102.9639 54.1378,-107.5224\"/>\n",
       "<polygon fill=\"#000000\" stroke=\"#000000\" points=\"51.7449,-104.9584 46.2338,-114.007 56.1849,-110.3701 51.7449,-104.9584\"/>\n",
       "</g>\n",
       "<!-- STAT -->\n",
       "<g id=\"node5\" class=\"node\">\n",
       "<title>STAT</title>\n",
       "<ellipse fill=\"none\" stroke=\"#000000\" cx=\"94.3405\" cy=\"-28.0866\" rx=\"32.4942\" ry=\"18\"/>\n",
       "<text text-anchor=\"middle\" x=\"94.3405\" y=\"-24.3866\" font-family=\"Times,serif\" font-size=\"14.00\" fill=\"#000000\">STAT</text>\n",
       "</g>\n",
       "<!-- ANL&#45;&gt;STAT -->\n",
       "<g id=\"edge2\" class=\"edge\">\n",
       "<title>ANL&#45;&gt;STAT</title>\n",
       "<path fill=\"none\" stroke=\"#000000\" d=\"M90.323,-61.5883C90.5287,-59.8726 90.7405,-58.1064 90.9542,-56.3243\"/>\n",
       "<polygon fill=\"#000000\" stroke=\"#000000\" points=\"94.4547,-56.5288 92.1704,-46.1832 87.5045,-55.6953 94.4547,-56.5288\"/>\n",
       "</g>\n",
       "</g>\n",
       "</svg>\n"
      ],
      "text/plain": [
       "<graphviz.dot.Digraph at 0x7f3e168d64a8>"
      ]
     },
     "execution_count": 43,
     "metadata": {},
     "output_type": "execute_result"
    }
   ],
   "source": [
    "pl.steps[-1][1].structure().dot()"
   ]
  },
  {
   "cell_type": "code",
   "execution_count": 44,
   "metadata": {},
   "outputs": [
    {
     "data": {
      "text/plain": [
       "-876.9315865210814"
      ]
     },
     "execution_count": 44,
     "metadata": {},
     "output_type": "execute_result"
    }
   ],
   "source": [
    "pl.set_params(hartemink__breaks=7).fit(pd_marks, None)\n",
    "pl.score(dmarks)"
   ]
  },
  {
   "cell_type": "code",
   "execution_count": 45,
   "metadata": {},
   "outputs": [
    {
     "data": {
      "image/svg+xml": [
       "<?xml version=\"1.0\" encoding=\"UTF-8\" standalone=\"no\"?>\n",
       "<!DOCTYPE svg PUBLIC \"-//W3C//DTD SVG 1.1//EN\"\n",
       " \"http://www.w3.org/Graphics/SVG/1.1/DTD/svg11.dtd\">\n",
       "<!-- Generated by graphviz version 2.40.1 (20161225.0304)\n",
       " -->\n",
       "<!-- Title: %3 Pages: 1 -->\n",
       "<svg width=\"185pt\" height=\"158pt\"\n",
       " viewBox=\"0.00 0.00 185.00 158.00\" xmlns=\"http://www.w3.org/2000/svg\" xmlns:xlink=\"http://www.w3.org/1999/xlink\">\n",
       "<g id=\"graph0\" class=\"graph\" transform=\"scale(1 1) rotate(0) translate(4 154)\">\n",
       "<title>%3</title>\n",
       "<polygon fill=\"#ffffff\" stroke=\"transparent\" points=\"-4,4 -4,-154 181,-154 181,4 -4,4\"/>\n",
       "<!-- MECH -->\n",
       "<g id=\"node1\" class=\"node\">\n",
       "<title>MECH</title>\n",
       "<ellipse fill=\"none\" stroke=\"#000000\" cx=\"42.2381\" cy=\"-35.6409\" rx=\"36.2938\" ry=\"18\"/>\n",
       "<text text-anchor=\"middle\" x=\"42.2381\" y=\"-31.9409\" font-family=\"Times,serif\" font-size=\"14.00\" fill=\"#000000\">MECH</text>\n",
       "</g>\n",
       "<!-- VECT -->\n",
       "<g id=\"node2\" class=\"node\">\n",
       "<title>VECT</title>\n",
       "<ellipse fill=\"none\" stroke=\"#000000\" cx=\"106.2381\" cy=\"-83.6409\" rx=\"33.5952\" ry=\"18\"/>\n",
       "<text text-anchor=\"middle\" x=\"106.2381\" y=\"-79.9409\" font-family=\"Times,serif\" font-size=\"14.00\" fill=\"#000000\">VECT</text>\n",
       "</g>\n",
       "<!-- ALG -->\n",
       "<g id=\"node3\" class=\"node\">\n",
       "<title>ALG</title>\n",
       "<ellipse fill=\"none\" stroke=\"#000000\" cx=\"148.2381\" cy=\"-131.6409\" rx=\"28.6953\" ry=\"18\"/>\n",
       "<text text-anchor=\"middle\" x=\"148.2381\" y=\"-127.9409\" font-family=\"Times,serif\" font-size=\"14.00\" fill=\"#000000\">ALG</text>\n",
       "</g>\n",
       "<!-- ANL -->\n",
       "<g id=\"node4\" class=\"node\">\n",
       "<title>ANL</title>\n",
       "<ellipse fill=\"none\" stroke=\"#000000\" cx=\"28.2381\" cy=\"-107.6409\" rx=\"28.6953\" ry=\"18\"/>\n",
       "<text text-anchor=\"middle\" x=\"28.2381\" y=\"-103.9409\" font-family=\"Times,serif\" font-size=\"14.00\" fill=\"#000000\">ANL</text>\n",
       "</g>\n",
       "<!-- STAT -->\n",
       "<g id=\"node5\" class=\"node\">\n",
       "<title>STAT</title>\n",
       "<ellipse fill=\"none\" stroke=\"#000000\" cx=\"122.2381\" cy=\"-17.6409\" rx=\"32.4942\" ry=\"18\"/>\n",
       "<text text-anchor=\"middle\" x=\"122.2381\" y=\"-13.9409\" font-family=\"Times,serif\" font-size=\"14.00\" fill=\"#000000\">STAT</text>\n",
       "</g>\n",
       "</g>\n",
       "</svg>\n"
      ],
      "text/plain": [
       "<graphviz.dot.Digraph at 0x7f3e16880978>"
      ]
     },
     "execution_count": 45,
     "metadata": {},
     "output_type": "execute_result"
    }
   ],
   "source": [
    "pl.steps[-1][1].structure().dot()"
   ]
  },
  {
   "cell_type": "markdown",
   "metadata": {},
   "source": [
    "## StructuralEMNetFromDataDiscreteBayesNetwork"
   ]
  },
  {
   "cell_type": "code",
   "execution_count": 46,
   "metadata": {},
   "outputs": [
    {
     "data": {
      "text/plain": [
       "Index(['MECH', 'VECT', 'ALG', 'ANL', 'STAT', 'LAT'], dtype='object')"
      ]
     },
     "execution_count": 46,
     "metadata": {},
     "output_type": "execute_result"
    }
   ],
   "source": [
    "ldmarks.columns"
   ]
  },
  {
   "cell_type": "code",
   "execution_count": 47,
   "metadata": {},
   "outputs": [
    {
     "name": "stdout",
     "output_type": "stream",
     "text": [
      "identified latent variables: ['LAT']\n"
     ]
    },
    {
     "data": {
      "image/svg+xml": [
       "<?xml version=\"1.0\" encoding=\"UTF-8\" standalone=\"no\"?>\n",
       "<!DOCTYPE svg PUBLIC \"-//W3C//DTD SVG 1.1//EN\"\n",
       " \"http://www.w3.org/Graphics/SVG/1.1/DTD/svg11.dtd\">\n",
       "<!-- Generated by graphviz version 2.40.1 (20161225.0304)\n",
       " -->\n",
       "<!-- Title: %3 Pages: 1 -->\n",
       "<svg width=\"239pt\" height=\"178pt\"\n",
       " viewBox=\"0.00 0.00 239.00 178.00\" xmlns=\"http://www.w3.org/2000/svg\" xmlns:xlink=\"http://www.w3.org/1999/xlink\">\n",
       "<g id=\"graph0\" class=\"graph\" transform=\"scale(1 1) rotate(0) translate(4 174)\">\n",
       "<title>%3</title>\n",
       "<polygon fill=\"#ffffff\" stroke=\"transparent\" points=\"-4,4 -4,-174 235,-174 235,4 -4,4\"/>\n",
       "<!-- MECH -->\n",
       "<g id=\"node1\" class=\"node\">\n",
       "<title>MECH</title>\n",
       "<ellipse fill=\"none\" stroke=\"#000000\" cx=\"36.1976\" cy=\"-106.3041\" rx=\"36.2938\" ry=\"18\"/>\n",
       "<text text-anchor=\"middle\" x=\"36.1976\" y=\"-102.6041\" font-family=\"Times,serif\" font-size=\"14.00\" fill=\"#000000\">MECH</text>\n",
       "</g>\n",
       "<!-- VECT -->\n",
       "<g id=\"node2\" class=\"node\">\n",
       "<title>VECT</title>\n",
       "<ellipse fill=\"none\" stroke=\"#000000\" cx=\"197.2732\" cy=\"-123.2568\" rx=\"33.5952\" ry=\"18\"/>\n",
       "<text text-anchor=\"middle\" x=\"197.2732\" y=\"-119.5568\" font-family=\"Times,serif\" font-size=\"14.00\" fill=\"#000000\">VECT</text>\n",
       "</g>\n",
       "<!-- ALG -->\n",
       "<g id=\"node3\" class=\"node\">\n",
       "<title>ALG</title>\n",
       "<ellipse fill=\"none\" stroke=\"#000000\" cx=\"64.3238\" cy=\"-47.9773\" rx=\"28.6953\" ry=\"18\"/>\n",
       "<text text-anchor=\"middle\" x=\"64.3238\" y=\"-44.2773\" font-family=\"Times,serif\" font-size=\"14.00\" fill=\"#000000\">ALG</text>\n",
       "</g>\n",
       "<!-- ANL -->\n",
       "<g id=\"node4\" class=\"node\">\n",
       "<title>ANL</title>\n",
       "<ellipse fill=\"none\" stroke=\"#000000\" cx=\"109.1902\" cy=\"-151.5908\" rx=\"28.6953\" ry=\"18\"/>\n",
       "<text text-anchor=\"middle\" x=\"109.1902\" y=\"-147.8908\" font-family=\"Times,serif\" font-size=\"14.00\" fill=\"#000000\">ANL</text>\n",
       "</g>\n",
       "<!-- ANL&#45;&gt;ALG -->\n",
       "<g id=\"edge1\" class=\"edge\">\n",
       "<title>ANL&#45;&gt;ALG</title>\n",
       "<path fill=\"none\" stroke=\"#000000\" d=\"M101.5792,-134.0142C93.3289,-114.9609 80.2371,-84.727 71.9721,-65.6401\"/>\n",
       "</g>\n",
       "<!-- STAT -->\n",
       "<g id=\"node5\" class=\"node\">\n",
       "<title>STAT</title>\n",
       "<ellipse fill=\"none\" stroke=\"#000000\" cx=\"169.1951\" cy=\"-17.553\" rx=\"32.4942\" ry=\"18\"/>\n",
       "<text text-anchor=\"middle\" x=\"169.1951\" y=\"-13.853\" font-family=\"Times,serif\" font-size=\"14.00\" fill=\"#000000\">STAT</text>\n",
       "</g>\n",
       "<!-- LAT -->\n",
       "<g id=\"node6\" class=\"node\">\n",
       "<title>LAT</title>\n",
       "<ellipse fill=\"none\" stroke=\"#000000\" cx=\"144.2891\" cy=\"-67.7862\" rx=\"27.8951\" ry=\"18\"/>\n",
       "<text text-anchor=\"middle\" x=\"144.2891\" y=\"-64.0862\" font-family=\"Times,serif\" font-size=\"14.00\" fill=\"#000000\">LAT</text>\n",
       "</g>\n",
       "<!-- LAT&#45;&gt;MECH -->\n",
       "<g id=\"edge6\" class=\"edge\">\n",
       "<title>LAT&#45;&gt;MECH</title>\n",
       "<path fill=\"none\" stroke=\"#000000\" d=\"M119.7615,-76.5265C103.8157,-82.2087 82.9248,-89.6531 66.0202,-95.677\"/>\n",
       "</g>\n",
       "<!-- LAT&#45;&gt;VECT -->\n",
       "<g id=\"edge5\" class=\"edge\">\n",
       "<title>LAT&#45;&gt;VECT</title>\n",
       "<path fill=\"none\" stroke=\"#000000\" d=\"M159.0481,-83.2379C166.152,-90.6752 174.6665,-99.5892 181.8546,-107.1146\"/>\n",
       "</g>\n",
       "<!-- LAT&#45;&gt;ALG -->\n",
       "<g id=\"edge4\" class=\"edge\">\n",
       "<title>LAT&#45;&gt;ALG</title>\n",
       "<path fill=\"none\" stroke=\"#000000\" d=\"M118.1055,-61.3C109.4511,-59.1562 99.8136,-56.7688 91.1144,-54.6138\"/>\n",
       "</g>\n",
       "<!-- LAT&#45;&gt;ANL -->\n",
       "<g id=\"edge2\" class=\"edge\">\n",
       "<title>LAT&#45;&gt;ANL</title>\n",
       "<path fill=\"none\" stroke=\"#000000\" d=\"M136.8455,-85.559C130.8489,-99.877 122.4642,-119.8969 116.5027,-134.131\"/>\n",
       "</g>\n",
       "<!-- LAT&#45;&gt;STAT -->\n",
       "<g id=\"edge3\" class=\"edge\">\n",
       "<title>LAT&#45;&gt;STAT</title>\n",
       "<path fill=\"none\" stroke=\"#000000\" d=\"M152.8603,-50.4988C155.3368,-45.5039 158.0409,-40.05 160.5235,-35.0428\"/>\n",
       "</g>\n",
       "</g>\n",
       "</svg>\n"
      ],
      "text/plain": [
       "<graphviz.dot.Digraph at 0x7f3e168835f8>"
      ]
     },
     "execution_count": 47,
     "metadata": {},
     "output_type": "execute_result"
    }
   ],
   "source": [
    "net_ldmarks = pybnl.bn.StructuralEMNetFromDataDiscreteBayesNetwork(ldmarks)\n",
    "net_ldmarks.fit(ldmarks)\n",
    "net_ldmarks.structure().cpdag().dot()"
   ]
  },
  {
   "cell_type": "code",
   "execution_count": 48,
   "metadata": {},
   "outputs": [
    {
     "data": {
      "text/html": [
       "<div>\n",
       "<style scoped>\n",
       "    .dataframe tbody tr th:only-of-type {\n",
       "        vertical-align: middle;\n",
       "    }\n",
       "\n",
       "    .dataframe tbody tr th {\n",
       "        vertical-align: top;\n",
       "    }\n",
       "\n",
       "    .dataframe thead th {\n",
       "        text-align: right;\n",
       "    }\n",
       "</style>\n",
       "<table border=\"1\" class=\"dataframe\">\n",
       "  <thead>\n",
       "    <tr style=\"text-align: right;\">\n",
       "      <th></th>\n",
       "      <th>MECH</th>\n",
       "      <th>VECT</th>\n",
       "      <th>ALG</th>\n",
       "      <th>ANL</th>\n",
       "      <th>STAT</th>\n",
       "      <th>LAT</th>\n",
       "    </tr>\n",
       "  </thead>\n",
       "  <tbody>\n",
       "    <tr>\n",
       "      <th>0</th>\n",
       "      <td>(49,77]</td>\n",
       "      <td>(60.7,82]</td>\n",
       "      <td>(58.7,80]</td>\n",
       "      <td>(62.3,70]</td>\n",
       "      <td>(53.7,81]</td>\n",
       "      <td>l000</td>\n",
       "    </tr>\n",
       "    <tr>\n",
       "      <th>1</th>\n",
       "      <td>(49,77]</td>\n",
       "      <td>(60.7,82]</td>\n",
       "      <td>(58.7,80]</td>\n",
       "      <td>(62.3,70]</td>\n",
       "      <td>(53.7,81]</td>\n",
       "      <td>l000</td>\n",
       "    </tr>\n",
       "    <tr>\n",
       "      <th>2</th>\n",
       "      <td>(49,77]</td>\n",
       "      <td>(60.7,82]</td>\n",
       "      <td>(58.7,80]</td>\n",
       "      <td>(62.3,70]</td>\n",
       "      <td>(53.7,81]</td>\n",
       "      <td>l000</td>\n",
       "    </tr>\n",
       "    <tr>\n",
       "      <th>3</th>\n",
       "      <td>(49,77]</td>\n",
       "      <td>(60.7,82]</td>\n",
       "      <td>(58.7,80]</td>\n",
       "      <td>(62.3,70]</td>\n",
       "      <td>(53.7,81]</td>\n",
       "      <td>l000</td>\n",
       "    </tr>\n",
       "    <tr>\n",
       "      <th>4</th>\n",
       "      <td>(49,77]</td>\n",
       "      <td>(60.7,82]</td>\n",
       "      <td>(58.7,80]</td>\n",
       "      <td>(62.3,70]</td>\n",
       "      <td>(53.7,81]</td>\n",
       "      <td>l000</td>\n",
       "    </tr>\n",
       "  </tbody>\n",
       "</table>\n",
       "</div>"
      ],
      "text/plain": [
       "      MECH       VECT        ALG        ANL       STAT   LAT\n",
       "0  (49,77]  (60.7,82]  (58.7,80]  (62.3,70]  (53.7,81]  l000\n",
       "1  (49,77]  (60.7,82]  (58.7,80]  (62.3,70]  (53.7,81]  l000\n",
       "2  (49,77]  (60.7,82]  (58.7,80]  (62.3,70]  (53.7,81]  l000\n",
       "3  (49,77]  (60.7,82]  (58.7,80]  (62.3,70]  (53.7,81]  l000\n",
       "4  (49,77]  (60.7,82]  (58.7,80]  (62.3,70]  (53.7,81]  l000"
      ]
     },
     "execution_count": 48,
     "metadata": {},
     "output_type": "execute_result"
    }
   ],
   "source": [
    "net_ldmarks.imputed_.head()"
   ]
  },
  {
   "cell_type": "code",
   "execution_count": 49,
   "metadata": {},
   "outputs": [
    {
     "data": {
      "text/plain": [
       "-498.01212119623887"
      ]
     },
     "execution_count": 49,
     "metadata": {},
     "output_type": "execute_result"
    }
   ],
   "source": [
    "net_ldmarks.score()"
   ]
  },
  {
   "cell_type": "code",
   "execution_count": 50,
   "metadata": {},
   "outputs": [
    {
     "name": "stdout",
     "output_type": "stream",
     "text": [
      "42580\n",
      "identified latent variables: ['LAT']\n"
     ]
    },
    {
     "data": {
      "image/svg+xml": [
       "<?xml version=\"1.0\" encoding=\"UTF-8\" standalone=\"no\"?>\n",
       "<!DOCTYPE svg PUBLIC \"-//W3C//DTD SVG 1.1//EN\"\n",
       " \"http://www.w3.org/Graphics/SVG/1.1/DTD/svg11.dtd\">\n",
       "<!-- Generated by graphviz version 2.40.1 (20161225.0304)\n",
       " -->\n",
       "<!-- Title: %3 Pages: 1 -->\n",
       "<svg width=\"234pt\" height=\"195pt\"\n",
       " viewBox=\"0.00 0.00 234.00 195.00\" xmlns=\"http://www.w3.org/2000/svg\" xmlns:xlink=\"http://www.w3.org/1999/xlink\">\n",
       "<g id=\"graph0\" class=\"graph\" transform=\"scale(1 1) rotate(0) translate(4 191)\">\n",
       "<title>%3</title>\n",
       "<polygon fill=\"#ffffff\" stroke=\"transparent\" points=\"-4,4 -4,-191 230,-191 230,4 -4,4\"/>\n",
       "<!-- MECH -->\n",
       "<g id=\"node1\" class=\"node\">\n",
       "<title>MECH</title>\n",
       "<ellipse fill=\"none\" stroke=\"#000000\" cx=\"36.6993\" cy=\"-93.7577\" rx=\"36.2938\" ry=\"18\"/>\n",
       "<text text-anchor=\"middle\" x=\"36.6993\" y=\"-90.0577\" font-family=\"Times,serif\" font-size=\"14.00\" fill=\"#000000\">MECH</text>\n",
       "</g>\n",
       "<!-- VECT -->\n",
       "<g id=\"node2\" class=\"node\">\n",
       "<title>VECT</title>\n",
       "<ellipse fill=\"none\" stroke=\"#000000\" cx=\"192.1091\" cy=\"-121.9659\" rx=\"33.5952\" ry=\"18\"/>\n",
       "<text text-anchor=\"middle\" x=\"192.1091\" y=\"-118.2659\" font-family=\"Times,serif\" font-size=\"14.00\" fill=\"#000000\">VECT</text>\n",
       "</g>\n",
       "<!-- ALG -->\n",
       "<g id=\"node3\" class=\"node\">\n",
       "<title>ALG</title>\n",
       "<ellipse fill=\"none\" stroke=\"#000000\" cx=\"75.9731\" cy=\"-17.5806\" rx=\"28.6953\" ry=\"18\"/>\n",
       "<text text-anchor=\"middle\" x=\"75.9731\" y=\"-13.8806\" font-family=\"Times,serif\" font-size=\"14.00\" fill=\"#000000\">ALG</text>\n",
       "</g>\n",
       "<!-- ANL -->\n",
       "<g id=\"node4\" class=\"node\">\n",
       "<title>ANL</title>\n",
       "<ellipse fill=\"none\" stroke=\"#000000\" cx=\"98.9463\" cy=\"-169.499\" rx=\"28.6953\" ry=\"18\"/>\n",
       "<text text-anchor=\"middle\" x=\"98.9463\" y=\"-165.799\" font-family=\"Times,serif\" font-size=\"14.00\" fill=\"#000000\">ANL</text>\n",
       "</g>\n",
       "<!-- STAT -->\n",
       "<g id=\"node5\" class=\"node\">\n",
       "<title>STAT</title>\n",
       "<ellipse fill=\"none\" stroke=\"#000000\" cx=\"176.9544\" cy=\"-28.3615\" rx=\"32.4942\" ry=\"18\"/>\n",
       "<text text-anchor=\"middle\" x=\"176.9544\" y=\"-24.6615\" font-family=\"Times,serif\" font-size=\"14.00\" fill=\"#000000\">STAT</text>\n",
       "</g>\n",
       "<!-- LAT -->\n",
       "<g id=\"node6\" class=\"node\">\n",
       "<title>LAT</title>\n",
       "<ellipse fill=\"none\" stroke=\"#000000\" cx=\"116.316\" cy=\"-76.7631\" rx=\"27.8951\" ry=\"18\"/>\n",
       "<text text-anchor=\"middle\" x=\"116.316\" y=\"-73.0631\" font-family=\"Times,serif\" font-size=\"14.00\" fill=\"#000000\">LAT</text>\n",
       "</g>\n",
       "<!-- LAT&#45;&gt;MECH -->\n",
       "<g id=\"edge5\" class=\"edge\">\n",
       "<title>LAT&#45;&gt;MECH</title>\n",
       "<path fill=\"none\" stroke=\"#000000\" d=\"M89.3614,-82.5167C83.2262,-83.8263 76.6346,-85.2333 70.2621,-86.5935\"/>\n",
       "</g>\n",
       "<!-- LAT&#45;&gt;VECT -->\n",
       "<g id=\"edge4\" class=\"edge\">\n",
       "<title>LAT&#45;&gt;VECT</title>\n",
       "<path fill=\"none\" stroke=\"#000000\" d=\"M137.0268,-89.1149C147.1077,-95.1272 159.247,-102.367 169.5611,-108.5183\"/>\n",
       "</g>\n",
       "<!-- LAT&#45;&gt;ALG -->\n",
       "<g id=\"edge3\" class=\"edge\">\n",
       "<title>LAT&#45;&gt;ALG</title>\n",
       "<path fill=\"none\" stroke=\"#000000\" d=\"M105.0783,-60.2775C99.576,-52.2057 92.9624,-42.5036 87.4309,-34.389\"/>\n",
       "</g>\n",
       "<!-- LAT&#45;&gt;ANL -->\n",
       "<g id=\"edge1\" class=\"edge\">\n",
       "<title>LAT&#45;&gt;ANL</title>\n",
       "<path fill=\"none\" stroke=\"#000000\" d=\"M112.967,-94.6435C109.9109,-110.9596 105.4157,-134.9594 102.3444,-151.357\"/>\n",
       "</g>\n",
       "<!-- LAT&#45;&gt;STAT -->\n",
       "<g id=\"edge2\" class=\"edge\">\n",
       "<title>LAT&#45;&gt;STAT</title>\n",
       "<path fill=\"none\" stroke=\"#000000\" d=\"M134.1816,-62.5028C141.7276,-56.4796 150.5193,-49.462 158.1626,-43.3611\"/>\n",
       "</g>\n",
       "</g>\n",
       "</svg>\n"
      ],
      "text/plain": [
       "<graphviz.dot.Digraph at 0x7f3e40075eb8>"
      ]
     },
     "execution_count": 50,
     "metadata": {},
     "output_type": "execute_result"
    }
   ],
   "source": [
    "random.seed()\n",
    "seed = random.randint(1,100000)\n",
    "seed = 42580\n",
    "print(seed)\n",
    "net_ldmarks = pybnl.bn.StructuralEMNetFromDataDiscreteBayesNetwork(ldmarks)\n",
    "net_ldmarks.fit(seed=seed)\n",
    "net_ldmarks.structure().cpdag().dot()"
   ]
  },
  {
   "cell_type": "code",
   "execution_count": 51,
   "metadata": {},
   "outputs": [
    {
     "data": {
      "text/html": [
       "<div>\n",
       "<style scoped>\n",
       "    .dataframe tbody tr th:only-of-type {\n",
       "        vertical-align: middle;\n",
       "    }\n",
       "\n",
       "    .dataframe tbody tr th {\n",
       "        vertical-align: top;\n",
       "    }\n",
       "\n",
       "    .dataframe thead th {\n",
       "        text-align: right;\n",
       "    }\n",
       "</style>\n",
       "<table border=\"1\" class=\"dataframe\">\n",
       "  <thead>\n",
       "    <tr style=\"text-align: right;\">\n",
       "      <th></th>\n",
       "      <th>MECH</th>\n",
       "      <th>VECT</th>\n",
       "      <th>ALG</th>\n",
       "      <th>ANL</th>\n",
       "      <th>STAT</th>\n",
       "      <th>LAT</th>\n",
       "    </tr>\n",
       "  </thead>\n",
       "  <tbody>\n",
       "    <tr>\n",
       "      <th>0</th>\n",
       "      <td>(49,77]</td>\n",
       "      <td>(60.7,82]</td>\n",
       "      <td>(58.7,80]</td>\n",
       "      <td>(62.3,70]</td>\n",
       "      <td>(53.7,81]</td>\n",
       "      <td>l000</td>\n",
       "    </tr>\n",
       "    <tr>\n",
       "      <th>1</th>\n",
       "      <td>(49,77]</td>\n",
       "      <td>(60.7,82]</td>\n",
       "      <td>(58.7,80]</td>\n",
       "      <td>(62.3,70]</td>\n",
       "      <td>(53.7,81]</td>\n",
       "      <td>l000</td>\n",
       "    </tr>\n",
       "    <tr>\n",
       "      <th>2</th>\n",
       "      <td>(49,77]</td>\n",
       "      <td>(60.7,82]</td>\n",
       "      <td>(58.7,80]</td>\n",
       "      <td>(62.3,70]</td>\n",
       "      <td>(53.7,81]</td>\n",
       "      <td>l000</td>\n",
       "    </tr>\n",
       "    <tr>\n",
       "      <th>3</th>\n",
       "      <td>(49,77]</td>\n",
       "      <td>(60.7,82]</td>\n",
       "      <td>(58.7,80]</td>\n",
       "      <td>(62.3,70]</td>\n",
       "      <td>(53.7,81]</td>\n",
       "      <td>l000</td>\n",
       "    </tr>\n",
       "    <tr>\n",
       "      <th>4</th>\n",
       "      <td>(49,77]</td>\n",
       "      <td>(60.7,82]</td>\n",
       "      <td>(58.7,80]</td>\n",
       "      <td>(62.3,70]</td>\n",
       "      <td>(53.7,81]</td>\n",
       "      <td>l000</td>\n",
       "    </tr>\n",
       "  </tbody>\n",
       "</table>\n",
       "</div>"
      ],
      "text/plain": [
       "      MECH       VECT        ALG        ANL       STAT   LAT\n",
       "0  (49,77]  (60.7,82]  (58.7,80]  (62.3,70]  (53.7,81]  l000\n",
       "1  (49,77]  (60.7,82]  (58.7,80]  (62.3,70]  (53.7,81]  l000\n",
       "2  (49,77]  (60.7,82]  (58.7,80]  (62.3,70]  (53.7,81]  l000\n",
       "3  (49,77]  (60.7,82]  (58.7,80]  (62.3,70]  (53.7,81]  l000\n",
       "4  (49,77]  (60.7,82]  (58.7,80]  (62.3,70]  (53.7,81]  l000"
      ]
     },
     "execution_count": 51,
     "metadata": {},
     "output_type": "execute_result"
    }
   ],
   "source": [
    "net_ldmarks.imputed_.head()"
   ]
  },
  {
   "cell_type": "code",
   "execution_count": 52,
   "metadata": {},
   "outputs": [
    {
     "data": {
      "text/plain": [
       "-441.1892509611524"
      ]
     },
     "execution_count": 52,
     "metadata": {},
     "output_type": "execute_result"
    }
   ],
   "source": [
    "net_ldmarks.score()"
   ]
  },
  {
   "cell_type": "markdown",
   "metadata": {},
   "source": [
    "### Comparison to literature example\n",
    "\n",
    "Let's compare this to the example values and network given in [Bayesian Networks in R](https://books.google.de/books?id=OCy5BAAAQBAJ&lpg=PP1&hl=de&pg=PP1#v=onepage&q&f=false) on page 45:"
   ]
  },
  {
   "cell_type": "code",
   "execution_count": 53,
   "metadata": {},
   "outputs": [
    {
     "data": {
      "text/plain": [
       "0    A\n",
       "1    A\n",
       "2    A\n",
       "3    A\n",
       "4    A\n",
       "Name: latent, dtype: category\n",
       "Categories (2, object): [A, B]"
      ]
     },
     "execution_count": 53,
     "metadata": {},
     "output_type": "execute_result"
    }
   ],
   "source": [
    "latent = pd.Series(['A']*44 + ['B'] + ['A']*7 + ['B']*36,name='latent')\n",
    "latent = latent.astype(pd.api.types.CategoricalDtype(['A', 'B'], ordered=False))\n",
    "latent.head()"
   ]
  },
  {
   "cell_type": "code",
   "execution_count": 54,
   "metadata": {},
   "outputs": [],
   "source": [
    "d_marks_with_latent = dmarks.copy()\n",
    "d_marks_with_latent['LAT'] = latent"
   ]
  },
  {
   "cell_type": "code",
   "execution_count": 55,
   "metadata": {},
   "outputs": [
    {
     "data": {
      "image/svg+xml": [
       "<?xml version=\"1.0\" encoding=\"UTF-8\" standalone=\"no\"?>\n",
       "<!DOCTYPE svg PUBLIC \"-//W3C//DTD SVG 1.1//EN\"\n",
       " \"http://www.w3.org/Graphics/SVG/1.1/DTD/svg11.dtd\">\n",
       "<!-- Generated by graphviz version 2.40.1 (20161225.0304)\n",
       " -->\n",
       "<!-- Title: %3 Pages: 1 -->\n",
       "<svg width=\"234pt\" height=\"195pt\"\n",
       " viewBox=\"0.00 0.00 234.00 195.00\" xmlns=\"http://www.w3.org/2000/svg\" xmlns:xlink=\"http://www.w3.org/1999/xlink\">\n",
       "<g id=\"graph0\" class=\"graph\" transform=\"scale(1 1) rotate(0) translate(4 191)\">\n",
       "<title>%3</title>\n",
       "<polygon fill=\"#ffffff\" stroke=\"transparent\" points=\"-4,4 -4,-191 230,-191 230,4 -4,4\"/>\n",
       "<!-- MECH -->\n",
       "<g id=\"node1\" class=\"node\">\n",
       "<title>MECH</title>\n",
       "<ellipse fill=\"none\" stroke=\"#000000\" cx=\"36.6993\" cy=\"-93.7577\" rx=\"36.2938\" ry=\"18\"/>\n",
       "<text text-anchor=\"middle\" x=\"36.6993\" y=\"-90.0577\" font-family=\"Times,serif\" font-size=\"14.00\" fill=\"#000000\">MECH</text>\n",
       "</g>\n",
       "<!-- LAT -->\n",
       "<g id=\"node6\" class=\"node\">\n",
       "<title>LAT</title>\n",
       "<ellipse fill=\"none\" stroke=\"#000000\" cx=\"116.316\" cy=\"-76.7631\" rx=\"27.8951\" ry=\"18\"/>\n",
       "<text text-anchor=\"middle\" x=\"116.316\" y=\"-73.0631\" font-family=\"Times,serif\" font-size=\"14.00\" fill=\"#000000\">LAT</text>\n",
       "</g>\n",
       "<!-- MECH&#45;&gt;LAT -->\n",
       "<g id=\"edge1\" class=\"edge\">\n",
       "<title>MECH&#45;&gt;LAT</title>\n",
       "<path fill=\"none\" stroke=\"#000000\" d=\"M70.464,-86.5504C73.5843,-85.8844 76.7554,-85.2075 79.8981,-84.5367\"/>\n",
       "<polygon fill=\"#000000\" stroke=\"#000000\" points=\"80.6935,-87.9458 89.7426,-82.4353 79.2322,-81.1 80.6935,-87.9458\"/>\n",
       "</g>\n",
       "<!-- VECT -->\n",
       "<g id=\"node2\" class=\"node\">\n",
       "<title>VECT</title>\n",
       "<ellipse fill=\"none\" stroke=\"#000000\" cx=\"192.1091\" cy=\"-121.9659\" rx=\"33.5952\" ry=\"18\"/>\n",
       "<text text-anchor=\"middle\" x=\"192.1091\" y=\"-118.2659\" font-family=\"Times,serif\" font-size=\"14.00\" fill=\"#000000\">VECT</text>\n",
       "</g>\n",
       "<!-- ALG -->\n",
       "<g id=\"node3\" class=\"node\">\n",
       "<title>ALG</title>\n",
       "<ellipse fill=\"none\" stroke=\"#000000\" cx=\"75.9731\" cy=\"-17.5806\" rx=\"28.6953\" ry=\"18\"/>\n",
       "<text text-anchor=\"middle\" x=\"75.9731\" y=\"-13.8806\" font-family=\"Times,serif\" font-size=\"14.00\" fill=\"#000000\">ALG</text>\n",
       "</g>\n",
       "<!-- ANL -->\n",
       "<g id=\"node4\" class=\"node\">\n",
       "<title>ANL</title>\n",
       "<ellipse fill=\"none\" stroke=\"#000000\" cx=\"98.9463\" cy=\"-169.499\" rx=\"28.6953\" ry=\"18\"/>\n",
       "<text text-anchor=\"middle\" x=\"98.9463\" y=\"-165.799\" font-family=\"Times,serif\" font-size=\"14.00\" fill=\"#000000\">ANL</text>\n",
       "</g>\n",
       "<!-- ANL&#45;&gt;LAT -->\n",
       "<g id=\"edge2\" class=\"edge\">\n",
       "<title>ANL&#45;&gt;LAT</title>\n",
       "<path fill=\"none\" stroke=\"#000000\" d=\"M102.2954,-151.6186C104.7784,-138.3617 108.2115,-120.0324 111.0591,-104.8297\"/>\n",
       "<polygon fill=\"#000000\" stroke=\"#000000\" points=\"114.5171,-105.3785 112.918,-94.905 107.6367,-104.0897 114.5171,-105.3785\"/>\n",
       "</g>\n",
       "<!-- STAT -->\n",
       "<g id=\"node5\" class=\"node\">\n",
       "<title>STAT</title>\n",
       "<ellipse fill=\"none\" stroke=\"#000000\" cx=\"176.9544\" cy=\"-28.3615\" rx=\"32.4942\" ry=\"18\"/>\n",
       "<text text-anchor=\"middle\" x=\"176.9544\" y=\"-24.6615\" font-family=\"Times,serif\" font-size=\"14.00\" fill=\"#000000\">STAT</text>\n",
       "</g>\n",
       "<!-- LAT&#45;&gt;VECT -->\n",
       "<g id=\"edge3\" class=\"edge\">\n",
       "<title>LAT&#45;&gt;VECT</title>\n",
       "<path fill=\"none\" stroke=\"#000000\" d=\"M137.0268,-89.1149C144.3512,-93.4832 152.7622,-98.4995 160.7703,-103.2755\"/>\n",
       "<polygon fill=\"#000000\" stroke=\"#000000\" points=\"159.1797,-106.4021 169.5611,-108.5183 162.7653,-100.3901 159.1797,-106.4021\"/>\n",
       "</g>\n",
       "<!-- LAT&#45;&gt;ALG -->\n",
       "<g id=\"edge5\" class=\"edge\">\n",
       "<title>LAT&#45;&gt;ALG</title>\n",
       "<path fill=\"none\" stroke=\"#000000\" d=\"M105.0783,-60.2775C101.3814,-54.8542 97.1829,-48.6951 93.148,-42.7759\"/>\n",
       "<polygon fill=\"#000000\" stroke=\"#000000\" points=\"95.9555,-40.6805 87.4309,-34.389 90.1715,-44.6233 95.9555,-40.6805\"/>\n",
       "</g>\n",
       "<!-- LAT&#45;&gt;STAT -->\n",
       "<g id=\"edge4\" class=\"edge\">\n",
       "<title>LAT&#45;&gt;STAT</title>\n",
       "<path fill=\"none\" stroke=\"#000000\" d=\"M134.1816,-62.5028C139.1336,-58.55 144.6222,-54.1691 149.9706,-49.9\"/>\n",
       "<polygon fill=\"#000000\" stroke=\"#000000\" points=\"152.5305,-52.335 158.1626,-43.3611 148.1636,-46.8641 152.5305,-52.335\"/>\n",
       "</g>\n",
       "</g>\n",
       "</svg>\n"
      ],
      "text/plain": [
       "<graphviz.dot.Digraph at 0x7f3e2c4d1438>"
      ]
     },
     "execution_count": 55,
     "metadata": {},
     "output_type": "execute_result"
    }
   ],
   "source": [
    "dg_marks_with_latent = nx.DiGraph()\n",
    "# G.add_node(1)\n",
    "dg_marks_with_latent.add_nodes_from(list(d_marks_with_latent.columns))\n",
    "dg_marks_with_latent.add_edges_from([\n",
    "    ['ANL', 'LAT'],\n",
    "    ['MECH', 'LAT'],\n",
    "    ['LAT', 'VECT'],\n",
    "    ['LAT', 'STAT'],\n",
    "    ['LAT', 'ALG'],\n",
    "])\n",
    "pybnl.bn.dot(dg_marks_with_latent.nodes(), list(dg_marks_with_latent.edges()), [])"
   ]
  },
  {
   "cell_type": "markdown",
   "metadata": {},
   "source": [
    "First of all we note that the \"correlation\" between the given sequence and the one we reconstructed via `StructuralEMNetFromDataDiscreteBayesNetwork` is only \"moderate\":"
   ]
  },
  {
   "cell_type": "code",
   "execution_count": 56,
   "metadata": {},
   "outputs": [
    {
     "data": {
      "text/plain": [
       "0.4585028017089931"
      ]
     },
     "execution_count": 56,
     "metadata": {},
     "output_type": "execute_result"
    }
   ],
   "source": [
    "pybnl.bn.relative_mutual_information(latent, net_ldmarks.imputed_['LAT'])"
   ]
  },
  {
   "cell_type": "markdown",
   "metadata": {},
   "source": [
    "Let's look at fitting the given network and data and see the score of this result:"
   ]
  },
  {
   "cell_type": "code",
   "execution_count": 57,
   "metadata": {},
   "outputs": [
    {
     "data": {
      "text/html": [
       "<div>\n",
       "<style scoped>\n",
       "    .dataframe tbody tr th:only-of-type {\n",
       "        vertical-align: middle;\n",
       "    }\n",
       "\n",
       "    .dataframe tbody tr th {\n",
       "        vertical-align: top;\n",
       "    }\n",
       "\n",
       "    .dataframe thead th {\n",
       "        text-align: right;\n",
       "    }\n",
       "</style>\n",
       "<table border=\"1\" class=\"dataframe\">\n",
       "  <thead>\n",
       "    <tr style=\"text-align: right;\">\n",
       "      <th></th>\n",
       "      <th>MECH</th>\n",
       "      <th>VECT</th>\n",
       "      <th>ALG</th>\n",
       "      <th>ANL</th>\n",
       "      <th>STAT</th>\n",
       "      <th>LAT</th>\n",
       "    </tr>\n",
       "  </thead>\n",
       "  <tbody>\n",
       "    <tr>\n",
       "      <th>0</th>\n",
       "      <td>(49,77]</td>\n",
       "      <td>(60.7,82]</td>\n",
       "      <td>(58.7,80]</td>\n",
       "      <td>(62.3,70]</td>\n",
       "      <td>(53.7,81]</td>\n",
       "      <td>A</td>\n",
       "    </tr>\n",
       "    <tr>\n",
       "      <th>1</th>\n",
       "      <td>(49,77]</td>\n",
       "      <td>(60.7,82]</td>\n",
       "      <td>(58.7,80]</td>\n",
       "      <td>(62.3,70]</td>\n",
       "      <td>(53.7,81]</td>\n",
       "      <td>A</td>\n",
       "    </tr>\n",
       "    <tr>\n",
       "      <th>2</th>\n",
       "      <td>(49,77]</td>\n",
       "      <td>(60.7,82]</td>\n",
       "      <td>(58.7,80]</td>\n",
       "      <td>(62.3,70]</td>\n",
       "      <td>(53.7,81]</td>\n",
       "      <td>A</td>\n",
       "    </tr>\n",
       "    <tr>\n",
       "      <th>3</th>\n",
       "      <td>(49,77]</td>\n",
       "      <td>(60.7,82]</td>\n",
       "      <td>(58.7,80]</td>\n",
       "      <td>(62.3,70]</td>\n",
       "      <td>(53.7,81]</td>\n",
       "      <td>A</td>\n",
       "    </tr>\n",
       "    <tr>\n",
       "      <th>4</th>\n",
       "      <td>(49,77]</td>\n",
       "      <td>(60.7,82]</td>\n",
       "      <td>(58.7,80]</td>\n",
       "      <td>(62.3,70]</td>\n",
       "      <td>(53.7,81]</td>\n",
       "      <td>A</td>\n",
       "    </tr>\n",
       "  </tbody>\n",
       "</table>\n",
       "</div>"
      ],
      "text/plain": [
       "      MECH       VECT        ALG        ANL       STAT LAT\n",
       "0  (49,77]  (60.7,82]  (58.7,80]  (62.3,70]  (53.7,81]   A\n",
       "1  (49,77]  (60.7,82]  (58.7,80]  (62.3,70]  (53.7,81]   A\n",
       "2  (49,77]  (60.7,82]  (58.7,80]  (62.3,70]  (53.7,81]   A\n",
       "3  (49,77]  (60.7,82]  (58.7,80]  (62.3,70]  (53.7,81]   A\n",
       "4  (49,77]  (60.7,82]  (58.7,80]  (62.3,70]  (53.7,81]   A"
      ]
     },
     "execution_count": 57,
     "metadata": {},
     "output_type": "execute_result"
    }
   ],
   "source": [
    "d_marks_with_latent.head()"
   ]
  },
  {
   "cell_type": "code",
   "execution_count": 58,
   "metadata": {},
   "outputs": [
    {
     "data": {
      "text/plain": [
       "-459.49059682403055"
      ]
     },
     "execution_count": 58,
     "metadata": {},
     "output_type": "execute_result"
    }
   ],
   "source": [
    "net_dmarks_with_latent = pybnl.bn.NetAndDataDiscreteBayesNetwork(d_marks_with_latent, dg=dg_marks_with_latent)\n",
    "net_dmarks_with_latent.fit()\n",
    "net_dmarks_with_latent.score()"
   ]
  },
  {
   "cell_type": "markdown",
   "metadata": {},
   "source": [
    "The score is slightly worse than the one we got above, e.g. our values we reconstructed via `StructuralEMNetFromDataDiscreteBayesNetwork` are a better fit. One important comment here: the example in the literature is not discretized, e.g. the values here are not one-to-one comparable."
   ]
  }
 ],
 "metadata": {
  "kernelspec": {
   "display_name": "Python 3",
   "language": "python",
   "name": "python3"
  },
  "language_info": {
   "codemirror_mode": {
    "name": "ipython",
    "version": 3
   },
   "file_extension": ".py",
   "mimetype": "text/x-python",
   "name": "python",
   "nbconvert_exporter": "python",
   "pygments_lexer": "ipython3",
   "version": "3.6.10"
  }
 },
 "nbformat": 4,
 "nbformat_minor": 2
}
