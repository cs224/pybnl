{
 "cells": [
  {
   "cell_type": "code",
   "execution_count": 1,
   "metadata": {},
   "outputs": [
    {
     "name": "stderr",
     "output_type": "stream",
     "text": [
      "\n",
      "Attaching package: ‘bnlearn’\n",
      "\n",
      "The following object is masked from ‘package:stats’:\n",
      "\n",
      "    sigma\n",
      "\n"
     ]
    }
   ],
   "source": [
    "library(bnlearn)"
   ]
  },
  {
   "cell_type": "code",
   "execution_count": 2,
   "metadata": {},
   "outputs": [],
   "source": [
    "data(learning.test)"
   ]
  },
  {
   "cell_type": "code",
   "execution_count": 3,
   "metadata": {},
   "outputs": [
    {
     "data": {
      "text/html": [
       "<table>\n",
       "<thead><tr><th scope=col>A</th><th scope=col>B</th><th scope=col>C</th><th scope=col>D</th><th scope=col>E</th><th scope=col>F</th></tr></thead>\n",
       "<tbody>\n",
       "\t<tr><td>b</td><td>c</td><td>b</td><td>a</td><td>b</td><td>b</td></tr>\n",
       "\t<tr><td>b</td><td>a</td><td>c</td><td>a</td><td>b</td><td>b</td></tr>\n",
       "\t<tr><td>a</td><td>a</td><td>a</td><td>a</td><td>a</td><td>a</td></tr>\n",
       "\t<tr><td>a</td><td>a</td><td>a</td><td>a</td><td>b</td><td>b</td></tr>\n",
       "\t<tr><td>a</td><td>a</td><td>b</td><td>c</td><td>a</td><td>a</td></tr>\n",
       "\t<tr><td>c</td><td>c</td><td>a</td><td>c</td><td>c</td><td>a</td></tr>\n",
       "\t<tr><td>c</td><td>c</td><td>b</td><td>c</td><td>c</td><td>a</td></tr>\n",
       "\t<tr><td>b</td><td>b</td><td>a</td><td>b</td><td>b</td><td>b</td></tr>\n",
       "\t<tr><td>b</td><td>b</td><td>b</td><td>a</td><td>c</td><td>a</td></tr>\n",
       "\t<tr><td>b</td><td>a</td><td>b</td><td>a</td><td>a</td><td>a</td></tr>\n",
       "\t<tr><td>b</td><td>a</td><td>a</td><td>b</td><td>c</td><td>a</td></tr>\n",
       "\t<tr><td>c</td><td>c</td><td>b</td><td>b</td><td>c</td><td>a</td></tr>\n",
       "\t<tr><td>c</td><td>c</td><td>b</td><td>a</td><td>c</td><td>b</td></tr>\n",
       "\t<tr><td>c</td><td>c</td><td>a</td><td>c</td><td>c</td><td>a</td></tr>\n",
       "\t<tr><td>b</td><td>c</td><td>a</td><td>b</td><td>c</td><td>a</td></tr>\n",
       "\t<tr><td>a</td><td>a</td><td>b</td><td>c</td><td>a</td><td>a</td></tr>\n",
       "\t<tr><td>a</td><td>a</td><td>b</td><td>a</td><td>b</td><td>b</td></tr>\n",
       "\t<tr><td>c</td><td>c</td><td>a</td><td>b</td><td>b</td><td>b</td></tr>\n",
       "\t<tr><td>b</td><td>a</td><td>b</td><td>a</td><td>c</td><td>a</td></tr>\n",
       "\t<tr><td>b</td><td>c</td><td>a</td><td>b</td><td>a</td><td>b</td></tr>\n",
       "\t<tr><td>c</td><td>c</td><td>a</td><td>c</td><td>b</td><td>b</td></tr>\n",
       "\t<tr><td>c</td><td>b</td><td>a</td><td>a</td><td>c</td><td>a</td></tr>\n",
       "\t<tr><td>c</td><td>a</td><td>a</td><td>c</td><td>a</td><td>b</td></tr>\n",
       "\t<tr><td>b</td><td>a</td><td>a</td><td>b</td><td>a</td><td>a</td></tr>\n",
       "\t<tr><td>a</td><td>a</td><td>a</td><td>a</td><td>a</td><td>a</td></tr>\n",
       "\t<tr><td>b</td><td>a</td><td>a</td><td>b</td><td>b</td><td>a</td></tr>\n",
       "\t<tr><td>a</td><td>a</td><td>a</td><td>c</td><td>a</td><td>a</td></tr>\n",
       "\t<tr><td>c</td><td>c</td><td>b</td><td>a</td><td>c</td><td>a</td></tr>\n",
       "\t<tr><td>c</td><td>b</td><td>a</td><td>c</td><td>c</td><td>a</td></tr>\n",
       "\t<tr><td>c</td><td>b</td><td>a</td><td>c</td><td>c</td><td>a</td></tr>\n",
       "\t<tr><td>...</td><td>...</td><td>...</td><td>...</td><td>...</td><td>...</td></tr>\n",
       "\t<tr><td>b</td><td>a</td><td>a</td><td>b</td><td>a</td><td>a</td></tr>\n",
       "\t<tr><td>c</td><td>c</td><td>c</td><td>b</td><td>c</td><td>a</td></tr>\n",
       "\t<tr><td>b</td><td>a</td><td>b</td><td>b</td><td>b</td><td>b</td></tr>\n",
       "\t<tr><td>a</td><td>a</td><td>a</td><td>a</td><td>b</td><td>a</td></tr>\n",
       "\t<tr><td>a</td><td>c</td><td>a</td><td>a</td><td>b</td><td>b</td></tr>\n",
       "\t<tr><td>b</td><td>a</td><td>b</td><td>a</td><td>c</td><td>a</td></tr>\n",
       "\t<tr><td>c</td><td>a</td><td>a</td><td>b</td><td>a</td><td>a</td></tr>\n",
       "\t<tr><td>a</td><td>a</td><td>a</td><td>a</td><td>b</td><td>a</td></tr>\n",
       "\t<tr><td>b</td><td>a</td><td>a</td><td>b</td><td>a</td><td>a</td></tr>\n",
       "\t<tr><td>c</td><td>c</td><td>a</td><td>c</td><td>b</td><td>b</td></tr>\n",
       "\t<tr><td>b</td><td>c</td><td>a</td><td>b</td><td>c</td><td>b</td></tr>\n",
       "\t<tr><td>b</td><td>c</td><td>a</td><td>c</td><td>c</td><td>a</td></tr>\n",
       "\t<tr><td>b</td><td>b</td><td>a</td><td>b</td><td>c</td><td>b</td></tr>\n",
       "\t<tr><td>b</td><td>a</td><td>a</td><td>a</td><td>a</td><td>a</td></tr>\n",
       "\t<tr><td>c</td><td>c</td><td>a</td><td>c</td><td>b</td><td>b</td></tr>\n",
       "\t<tr><td>a</td><td>c</td><td>b</td><td>b</td><td>b</td><td>a</td></tr>\n",
       "\t<tr><td>b</td><td>c</td><td>a</td><td>b</td><td>c</td><td>b</td></tr>\n",
       "\t<tr><td>b</td><td>a</td><td>a</td><td>a</td><td>a</td><td>b</td></tr>\n",
       "\t<tr><td>b</td><td>c</td><td>a</td><td>b</td><td>b</td><td>b</td></tr>\n",
       "\t<tr><td>a</td><td>a</td><td>a</td><td>a</td><td>a</td><td>a</td></tr>\n",
       "\t<tr><td>a</td><td>a</td><td>a</td><td>a</td><td>c</td><td>b</td></tr>\n",
       "\t<tr><td>c</td><td>c</td><td>a</td><td>c</td><td>a</td><td>b</td></tr>\n",
       "\t<tr><td>c</td><td>c</td><td>b</td><td>b</td><td>a</td><td>a</td></tr>\n",
       "\t<tr><td>a</td><td>c</td><td>a</td><td>b</td><td>c</td><td>a</td></tr>\n",
       "\t<tr><td>b</td><td>a</td><td>a</td><td>b</td><td>b</td><td>b</td></tr>\n",
       "\t<tr><td>a</td><td>a</td><td>a</td><td>a</td><td>a</td><td>a</td></tr>\n",
       "\t<tr><td>c</td><td>c</td><td>b</td><td>b</td><td>c</td><td>a</td></tr>\n",
       "\t<tr><td>b</td><td>b</td><td>a</td><td>b</td><td>c</td><td>b</td></tr>\n",
       "\t<tr><td>a</td><td>c</td><td>b</td><td>c</td><td>c</td><td>a</td></tr>\n",
       "\t<tr><td>a</td><td>a</td><td>a</td><td>a</td><td>b</td><td>b</td></tr>\n",
       "</tbody>\n",
       "</table>\n"
      ],
      "text/latex": [
       "\\begin{tabular}{r|llllll}\n",
       " A & B & C & D & E & F\\\\\n",
       "\\hline\n",
       "\t b & c & b & a & b & b\\\\\n",
       "\t b & a & c & a & b & b\\\\\n",
       "\t a & a & a & a & a & a\\\\\n",
       "\t a & a & a & a & b & b\\\\\n",
       "\t a & a & b & c & a & a\\\\\n",
       "\t c & c & a & c & c & a\\\\\n",
       "\t c & c & b & c & c & a\\\\\n",
       "\t b & b & a & b & b & b\\\\\n",
       "\t b & b & b & a & c & a\\\\\n",
       "\t b & a & b & a & a & a\\\\\n",
       "\t b & a & a & b & c & a\\\\\n",
       "\t c & c & b & b & c & a\\\\\n",
       "\t c & c & b & a & c & b\\\\\n",
       "\t c & c & a & c & c & a\\\\\n",
       "\t b & c & a & b & c & a\\\\\n",
       "\t a & a & b & c & a & a\\\\\n",
       "\t a & a & b & a & b & b\\\\\n",
       "\t c & c & a & b & b & b\\\\\n",
       "\t b & a & b & a & c & a\\\\\n",
       "\t b & c & a & b & a & b\\\\\n",
       "\t c & c & a & c & b & b\\\\\n",
       "\t c & b & a & a & c & a\\\\\n",
       "\t c & a & a & c & a & b\\\\\n",
       "\t b & a & a & b & a & a\\\\\n",
       "\t a & a & a & a & a & a\\\\\n",
       "\t b & a & a & b & b & a\\\\\n",
       "\t a & a & a & c & a & a\\\\\n",
       "\t c & c & b & a & c & a\\\\\n",
       "\t c & b & a & c & c & a\\\\\n",
       "\t c & b & a & c & c & a\\\\\n",
       "\t ... & ... & ... & ... & ... & ...\\\\\n",
       "\t b & a & a & b & a & a\\\\\n",
       "\t c & c & c & b & c & a\\\\\n",
       "\t b & a & b & b & b & b\\\\\n",
       "\t a & a & a & a & b & a\\\\\n",
       "\t a & c & a & a & b & b\\\\\n",
       "\t b & a & b & a & c & a\\\\\n",
       "\t c & a & a & b & a & a\\\\\n",
       "\t a & a & a & a & b & a\\\\\n",
       "\t b & a & a & b & a & a\\\\\n",
       "\t c & c & a & c & b & b\\\\\n",
       "\t b & c & a & b & c & b\\\\\n",
       "\t b & c & a & c & c & a\\\\\n",
       "\t b & b & a & b & c & b\\\\\n",
       "\t b & a & a & a & a & a\\\\\n",
       "\t c & c & a & c & b & b\\\\\n",
       "\t a & c & b & b & b & a\\\\\n",
       "\t b & c & a & b & c & b\\\\\n",
       "\t b & a & a & a & a & b\\\\\n",
       "\t b & c & a & b & b & b\\\\\n",
       "\t a & a & a & a & a & a\\\\\n",
       "\t a & a & a & a & c & b\\\\\n",
       "\t c & c & a & c & a & b\\\\\n",
       "\t c & c & b & b & a & a\\\\\n",
       "\t a & c & a & b & c & a\\\\\n",
       "\t b & a & a & b & b & b\\\\\n",
       "\t a & a & a & a & a & a\\\\\n",
       "\t c & c & b & b & c & a\\\\\n",
       "\t b & b & a & b & c & b\\\\\n",
       "\t a & c & b & c & c & a\\\\\n",
       "\t a & a & a & a & b & b\\\\\n",
       "\\end{tabular}\n"
      ],
      "text/markdown": [
       "\n",
       "| A | B | C | D | E | F |\n",
       "|---|---|---|---|---|---|\n",
       "| b | c | b | a | b | b |\n",
       "| b | a | c | a | b | b |\n",
       "| a | a | a | a | a | a |\n",
       "| a | a | a | a | b | b |\n",
       "| a | a | b | c | a | a |\n",
       "| c | c | a | c | c | a |\n",
       "| c | c | b | c | c | a |\n",
       "| b | b | a | b | b | b |\n",
       "| b | b | b | a | c | a |\n",
       "| b | a | b | a | a | a |\n",
       "| b | a | a | b | c | a |\n",
       "| c | c | b | b | c | a |\n",
       "| c | c | b | a | c | b |\n",
       "| c | c | a | c | c | a |\n",
       "| b | c | a | b | c | a |\n",
       "| a | a | b | c | a | a |\n",
       "| a | a | b | a | b | b |\n",
       "| c | c | a | b | b | b |\n",
       "| b | a | b | a | c | a |\n",
       "| b | c | a | b | a | b |\n",
       "| c | c | a | c | b | b |\n",
       "| c | b | a | a | c | a |\n",
       "| c | a | a | c | a | b |\n",
       "| b | a | a | b | a | a |\n",
       "| a | a | a | a | a | a |\n",
       "| b | a | a | b | b | a |\n",
       "| a | a | a | c | a | a |\n",
       "| c | c | b | a | c | a |\n",
       "| c | b | a | c | c | a |\n",
       "| c | b | a | c | c | a |\n",
       "| ... | ... | ... | ... | ... | ... |\n",
       "| b | a | a | b | a | a |\n",
       "| c | c | c | b | c | a |\n",
       "| b | a | b | b | b | b |\n",
       "| a | a | a | a | b | a |\n",
       "| a | c | a | a | b | b |\n",
       "| b | a | b | a | c | a |\n",
       "| c | a | a | b | a | a |\n",
       "| a | a | a | a | b | a |\n",
       "| b | a | a | b | a | a |\n",
       "| c | c | a | c | b | b |\n",
       "| b | c | a | b | c | b |\n",
       "| b | c | a | c | c | a |\n",
       "| b | b | a | b | c | b |\n",
       "| b | a | a | a | a | a |\n",
       "| c | c | a | c | b | b |\n",
       "| a | c | b | b | b | a |\n",
       "| b | c | a | b | c | b |\n",
       "| b | a | a | a | a | b |\n",
       "| b | c | a | b | b | b |\n",
       "| a | a | a | a | a | a |\n",
       "| a | a | a | a | c | b |\n",
       "| c | c | a | c | a | b |\n",
       "| c | c | b | b | a | a |\n",
       "| a | c | a | b | c | a |\n",
       "| b | a | a | b | b | b |\n",
       "| a | a | a | a | a | a |\n",
       "| c | c | b | b | c | a |\n",
       "| b | b | a | b | c | b |\n",
       "| a | c | b | c | c | a |\n",
       "| a | a | a | a | b | b |\n",
       "\n"
      ],
      "text/plain": [
       "     A   B   C   D   E   F  \n",
       "1    b   c   b   a   b   b  \n",
       "2    b   a   c   a   b   b  \n",
       "3    a   a   a   a   a   a  \n",
       "4    a   a   a   a   b   b  \n",
       "5    a   a   b   c   a   a  \n",
       "6    c   c   a   c   c   a  \n",
       "7    c   c   b   c   c   a  \n",
       "8    b   b   a   b   b   b  \n",
       "9    b   b   b   a   c   a  \n",
       "10   b   a   b   a   a   a  \n",
       "11   b   a   a   b   c   a  \n",
       "12   c   c   b   b   c   a  \n",
       "13   c   c   b   a   c   b  \n",
       "14   c   c   a   c   c   a  \n",
       "15   b   c   a   b   c   a  \n",
       "16   a   a   b   c   a   a  \n",
       "17   a   a   b   a   b   b  \n",
       "18   c   c   a   b   b   b  \n",
       "19   b   a   b   a   c   a  \n",
       "20   b   c   a   b   a   b  \n",
       "21   c   c   a   c   b   b  \n",
       "22   c   b   a   a   c   a  \n",
       "23   c   a   a   c   a   b  \n",
       "24   b   a   a   b   a   a  \n",
       "25   a   a   a   a   a   a  \n",
       "26   b   a   a   b   b   a  \n",
       "27   a   a   a   c   a   a  \n",
       "28   c   c   b   a   c   a  \n",
       "29   c   b   a   c   c   a  \n",
       "30   c   b   a   c   c   a  \n",
       "...  ... ... ... ... ... ...\n",
       "4971 b   a   a   b   a   a  \n",
       "4972 c   c   c   b   c   a  \n",
       "4973 b   a   b   b   b   b  \n",
       "4974 a   a   a   a   b   a  \n",
       "4975 a   c   a   a   b   b  \n",
       "4976 b   a   b   a   c   a  \n",
       "4977 c   a   a   b   a   a  \n",
       "4978 a   a   a   a   b   a  \n",
       "4979 b   a   a   b   a   a  \n",
       "4980 c   c   a   c   b   b  \n",
       "4981 b   c   a   b   c   b  \n",
       "4982 b   c   a   c   c   a  \n",
       "4983 b   b   a   b   c   b  \n",
       "4984 b   a   a   a   a   a  \n",
       "4985 c   c   a   c   b   b  \n",
       "4986 a   c   b   b   b   a  \n",
       "4987 b   c   a   b   c   b  \n",
       "4988 b   a   a   a   a   b  \n",
       "4989 b   c   a   b   b   b  \n",
       "4990 a   a   a   a   a   a  \n",
       "4991 a   a   a   a   c   b  \n",
       "4992 c   c   a   c   a   b  \n",
       "4993 c   c   b   b   a   a  \n",
       "4994 a   c   a   b   c   a  \n",
       "4995 b   a   a   b   b   b  \n",
       "4996 a   a   a   a   a   a  \n",
       "4997 c   c   b   b   c   a  \n",
       "4998 b   b   a   b   c   b  \n",
       "4999 a   c   b   c   c   a  \n",
       "5000 a   a   a   a   b   b  "
      ]
     },
     "metadata": {},
     "output_type": "display_data"
    }
   ],
   "source": [
    "learning.test"
   ]
  },
  {
   "cell_type": "code",
   "execution_count": 4,
   "metadata": {},
   "outputs": [
    {
     "data": {
      "text/plain": [
       "\n",
       "  Bayesian network learned via Constraint-based methods\n",
       "\n",
       "  model:\n",
       "    [partially directed graph]\n",
       "  nodes:                                 6 \n",
       "  arcs:                                  5 \n",
       "    undirected arcs:                     1 \n",
       "    directed arcs:                       4 \n",
       "  average markov blanket size:           2.33 \n",
       "  average neighbourhood size:            1.67 \n",
       "  average branching factor:              0.67 \n",
       "\n",
       "  learning algorithm:                    Semi-Interleaved HITON-PC \n",
       "  conditional independence test:         Mutual Information (disc., MC) \n",
       "  alpha threshold:                       0.05 \n",
       "  permutations:                          5000 \n",
       "  tests used in the learning procedure:  63 \n"
      ]
     },
     "metadata": {},
     "output_type": "display_data"
    }
   ],
   "source": [
    "value = si.hiton.pc(learning.test, test=\"mc-mi\", undirected=FALSE)\n",
    "value"
   ]
  },
  {
   "cell_type": "code",
   "execution_count": 5,
   "metadata": {},
   "outputs": [
    {
     "data": {
      "text/plain": [
       "\n",
       "  Bayesian network learned via Constraint-based methods\n",
       "\n",
       "  model:\n",
       "   [B][C][F][A|B][E|B:F][D|A:C] \n",
       "  nodes:                                 6 \n",
       "  arcs:                                  5 \n",
       "    undirected arcs:                     0 \n",
       "    directed arcs:                       5 \n",
       "  average markov blanket size:           2.33 \n",
       "  average neighbourhood size:            1.67 \n",
       "  average branching factor:              0.83 \n",
       "\n",
       "  learning algorithm:                    Semi-Interleaved HITON-PC \n",
       "  conditional independence test:         Mutual Information (disc., MC) \n",
       "  alpha threshold:                       0.05 \n",
       "  permutations:                          5000 \n",
       "  tests used in the learning procedure:  63 \n"
      ]
     },
     "metadata": {},
     "output_type": "display_data"
    }
   ],
   "source": [
    "value2 = cextend(value)\n",
    "value2"
   ]
  },
  {
   "cell_type": "code",
   "execution_count": 6,
   "metadata": {},
   "outputs": [
    {
     "data": {
      "text/html": [
       "<table>\n",
       "<thead><tr><th scope=col>from</th><th scope=col>to</th></tr></thead>\n",
       "<tbody>\n",
       "\t<tr><td>A</td><td>D</td></tr>\n",
       "\t<tr><td>B</td><td>A</td></tr>\n",
       "\t<tr><td>B</td><td>E</td></tr>\n",
       "\t<tr><td>C</td><td>D</td></tr>\n",
       "\t<tr><td>F</td><td>E</td></tr>\n",
       "</tbody>\n",
       "</table>\n"
      ],
      "text/latex": [
       "\\begin{tabular}{ll}\n",
       " from & to\\\\\n",
       "\\hline\n",
       "\t A & D\\\\\n",
       "\t B & A\\\\\n",
       "\t B & E\\\\\n",
       "\t C & D\\\\\n",
       "\t F & E\\\\\n",
       "\\end{tabular}\n"
      ],
      "text/markdown": [
       "\n",
       "| from | to |\n",
       "|---|---|\n",
       "| A | D |\n",
       "| B | A |\n",
       "| B | E |\n",
       "| C | D |\n",
       "| F | E |\n",
       "\n"
      ],
      "text/plain": [
       "     from to\n",
       "[1,] A    D \n",
       "[2,] B    A \n",
       "[3,] B    E \n",
       "[4,] C    D \n",
       "[5,] F    E "
      ]
     },
     "metadata": {},
     "output_type": "display_data"
    }
   ],
   "source": [
    "value2_arcs = arcs(value2)\n",
    "value2_arcs"
   ]
  },
  {
   "cell_type": "code",
   "execution_count": 7,
   "metadata": {},
   "outputs": [
    {
     "data": {
      "text/html": [
       "'character'"
      ],
      "text/latex": [
       "'character'"
      ],
      "text/markdown": [
       "'character'"
      ],
      "text/plain": [
       "[1] \"character\""
      ]
     },
     "metadata": {},
     "output_type": "display_data"
    }
   ],
   "source": [
    "typeof(value2_arcs)"
   ]
  },
  {
   "cell_type": "code",
   "execution_count": 8,
   "metadata": {},
   "outputs": [
    {
     "data": {
      "text/html": [
       "'character'"
      ],
      "text/latex": [
       "'character'"
      ],
      "text/markdown": [
       "'character'"
      ],
      "text/plain": [
       "[1] \"character\""
      ]
     },
     "metadata": {},
     "output_type": "display_data"
    }
   ],
   "source": [
    "mode(value2_arcs)"
   ]
  },
  {
   "cell_type": "code",
   "execution_count": 9,
   "metadata": {},
   "outputs": [
    {
     "data": {
      "text/html": [
       "'matrix'"
      ],
      "text/latex": [
       "'matrix'"
      ],
      "text/markdown": [
       "'matrix'"
      ],
      "text/plain": [
       "[1] \"matrix\""
      ]
     },
     "metadata": {},
     "output_type": "display_data"
    }
   ],
   "source": [
    "class(value2_arcs)"
   ]
  },
  {
   "cell_type": "code",
   "execution_count": 10,
   "metadata": {},
   "outputs": [
    {
     "data": {
      "text/html": [
       "<ol>\n",
       "\t<li>NULL</li>\n",
       "\t<li><ol class=list-inline>\n",
       "\t<li>'from'</li>\n",
       "\t<li>'to'</li>\n",
       "</ol>\n",
       "</li>\n",
       "</ol>\n"
      ],
      "text/latex": [
       "\\begin{enumerate}\n",
       "\\item NULL\n",
       "\\item \\begin{enumerate*}\n",
       "\\item 'from'\n",
       "\\item 'to'\n",
       "\\end{enumerate*}\n",
       "\n",
       "\\end{enumerate}\n"
      ],
      "text/markdown": [
       "1. NULL\n",
       "2. 1. 'from'\n",
       "2. 'to'\n",
       "\n",
       "\n",
       "\n",
       "\n",
       "\n"
      ],
      "text/plain": [
       "[[1]]\n",
       "NULL\n",
       "\n",
       "[[2]]\n",
       "[1] \"from\" \"to\"  \n"
      ]
     },
     "metadata": {},
     "output_type": "display_data"
    }
   ],
   "source": [
    "dimnames(value2_arcs)"
   ]
  },
  {
   "cell_type": "code",
   "execution_count": 11,
   "metadata": {},
   "outputs": [
    {
     "data": {
      "text/html": [
       "<ol class=list-inline>\n",
       "\t<li>'A'</li>\n",
       "\t<li>'B'</li>\n",
       "\t<li>'B'</li>\n",
       "\t<li>'C'</li>\n",
       "\t<li>'F'</li>\n",
       "</ol>\n"
      ],
      "text/latex": [
       "\\begin{enumerate*}\n",
       "\\item 'A'\n",
       "\\item 'B'\n",
       "\\item 'B'\n",
       "\\item 'C'\n",
       "\\item 'F'\n",
       "\\end{enumerate*}\n"
      ],
      "text/markdown": [
       "1. 'A'\n",
       "2. 'B'\n",
       "3. 'B'\n",
       "4. 'C'\n",
       "5. 'F'\n",
       "\n",
       "\n"
      ],
      "text/plain": [
       "[1] \"A\" \"B\" \"B\" \"C\" \"F\""
      ]
     },
     "metadata": {},
     "output_type": "display_data"
    }
   ],
   "source": [
    "value2_arcs[TRUE, 'from']"
   ]
  },
  {
   "cell_type": "code",
   "execution_count": 12,
   "metadata": {},
   "outputs": [
    {
     "data": {
      "text/html": [
       "<ol class=list-inline>\n",
       "\t<li>'D'</li>\n",
       "\t<li>'A'</li>\n",
       "\t<li>'E'</li>\n",
       "\t<li>'D'</li>\n",
       "\t<li>'E'</li>\n",
       "</ol>\n"
      ],
      "text/latex": [
       "\\begin{enumerate*}\n",
       "\\item 'D'\n",
       "\\item 'A'\n",
       "\\item 'E'\n",
       "\\item 'D'\n",
       "\\item 'E'\n",
       "\\end{enumerate*}\n"
      ],
      "text/markdown": [
       "1. 'D'\n",
       "2. 'A'\n",
       "3. 'E'\n",
       "4. 'D'\n",
       "5. 'E'\n",
       "\n",
       "\n"
      ],
      "text/plain": [
       "[1] \"D\" \"A\" \"E\" \"D\" \"E\""
      ]
     },
     "metadata": {},
     "output_type": "display_data"
    }
   ],
   "source": [
    "value2_arcs[TRUE, 'to']"
   ]
  },
  {
   "cell_type": "code",
   "execution_count": 13,
   "metadata": {},
   "outputs": [
    {
     "data": {
      "text/html": [
       "<ol class=list-inline>\n",
       "\t<li>'A'</li>\n",
       "\t<li>'B'</li>\n",
       "\t<li>'B'</li>\n",
       "\t<li>'C'</li>\n",
       "\t<li>'F'</li>\n",
       "\t<li>'D'</li>\n",
       "\t<li>'A'</li>\n",
       "\t<li>'E'</li>\n",
       "\t<li>'D'</li>\n",
       "\t<li>'E'</li>\n",
       "</ol>\n"
      ],
      "text/latex": [
       "\\begin{enumerate*}\n",
       "\\item 'A'\n",
       "\\item 'B'\n",
       "\\item 'B'\n",
       "\\item 'C'\n",
       "\\item 'F'\n",
       "\\item 'D'\n",
       "\\item 'A'\n",
       "\\item 'E'\n",
       "\\item 'D'\n",
       "\\item 'E'\n",
       "\\end{enumerate*}\n"
      ],
      "text/markdown": [
       "1. 'A'\n",
       "2. 'B'\n",
       "3. 'B'\n",
       "4. 'C'\n",
       "5. 'F'\n",
       "6. 'D'\n",
       "7. 'A'\n",
       "8. 'E'\n",
       "9. 'D'\n",
       "10. 'E'\n",
       "\n",
       "\n"
      ],
      "text/plain": [
       " [1] \"A\" \"B\" \"B\" \"C\" \"F\" \"D\" \"A\" \"E\" \"D\" \"E\""
      ]
     },
     "metadata": {},
     "output_type": "display_data"
    }
   ],
   "source": [
    "value2_arcs[TRUE]"
   ]
  },
  {
   "cell_type": "code",
   "execution_count": 14,
   "metadata": {},
   "outputs": [
    {
     "data": {
      "text/html": [
       "<table>\n",
       "<thead><tr><th scope=col>from</th><th scope=col>to</th></tr></thead>\n",
       "<tbody>\n",
       "\t<tr><td>A</td><td>D</td></tr>\n",
       "\t<tr><td>B</td><td>A</td></tr>\n",
       "\t<tr><td>B</td><td>E</td></tr>\n",
       "\t<tr><td>C</td><td>D</td></tr>\n",
       "\t<tr><td>F</td><td>E</td></tr>\n",
       "</tbody>\n",
       "</table>\n"
      ],
      "text/latex": [
       "\\begin{tabular}{ll}\n",
       " from & to\\\\\n",
       "\\hline\n",
       "\t A & D\\\\\n",
       "\t B & A\\\\\n",
       "\t B & E\\\\\n",
       "\t C & D\\\\\n",
       "\t F & E\\\\\n",
       "\\end{tabular}\n"
      ],
      "text/markdown": [
       "\n",
       "| from | to |\n",
       "|---|---|\n",
       "| A | D |\n",
       "| B | A |\n",
       "| B | E |\n",
       "| C | D |\n",
       "| F | E |\n",
       "\n"
      ],
      "text/plain": [
       "     from to\n",
       "[1,] A    D \n",
       "[2,] B    A \n",
       "[3,] B    E \n",
       "[4,] C    D \n",
       "[5,] F    E "
      ]
     },
     "metadata": {},
     "output_type": "display_data"
    }
   ],
   "source": [
    "value2$arcs"
   ]
  },
  {
   "cell_type": "code",
   "execution_count": 20,
   "metadata": {},
   "outputs": [
    {
     "data": {
      "text/html": [
       "<dl class=dl-horizontal>\n",
       "\t<dt>from</dt>\n",
       "\t\t<dd>'A'</dd>\n",
       "\t<dt>to</dt>\n",
       "\t\t<dd>'D'</dd>\n",
       "</dl>\n"
      ],
      "text/latex": [
       "\\begin{description*}\n",
       "\\item[from] 'A'\n",
       "\\item[to] 'D'\n",
       "\\end{description*}\n"
      ],
      "text/markdown": [
       "from\n",
       ":   'A'to\n",
       ":   'D'\n",
       "\n"
      ],
      "text/plain": [
       "from   to \n",
       " \"A\"  \"D\" "
      ]
     },
     "metadata": {},
     "output_type": "display_data"
    }
   ],
   "source": [
    "value2$arcs[1, TRUE]"
   ]
  },
  {
   "cell_type": "code",
   "execution_count": 18,
   "metadata": {},
   "outputs": [
    {
     "data": {
      "text/html": [
       "<dl class=dl-horizontal>\n",
       "\t<dt>from</dt>\n",
       "\t\t<dd>'A'</dd>\n",
       "\t<dt>to</dt>\n",
       "\t\t<dd>'D'</dd>\n",
       "</dl>\n"
      ],
      "text/latex": [
       "\\begin{description*}\n",
       "\\item[from] 'A'\n",
       "\\item[to] 'D'\n",
       "\\end{description*}\n"
      ],
      "text/markdown": [
       "from\n",
       ":   'A'to\n",
       ":   'D'\n",
       "\n"
      ],
      "text/plain": [
       "from   to \n",
       " \"A\"  \"D\" "
      ]
     },
     "metadata": {},
     "output_type": "display_data"
    }
   ],
   "source": [
    "value2_arcs[1, TRUE]"
   ]
  },
  {
   "cell_type": "code",
   "execution_count": null,
   "metadata": {},
   "outputs": [],
   "source": []
  }
 ],
 "metadata": {
  "kernelspec": {
   "display_name": "R",
   "language": "R",
   "name": "ir"
  },
  "language_info": {
   "codemirror_mode": "r",
   "file_extension": ".r",
   "mimetype": "text/x-r-source",
   "name": "R",
   "pygments_lexer": "r",
   "version": "3.6.1"
  }
 },
 "nbformat": 4,
 "nbformat_minor": 4
}
